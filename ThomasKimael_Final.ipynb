{
  "nbformat": 4,
  "nbformat_minor": 0,
  "metadata": {
    "colab": {
      "provenance": [],
      "authorship_tag": "ABX9TyOo5qsUCz9M0xkosmH3Sxmk",
      "include_colab_link": true
    },
    "kernelspec": {
      "name": "python3",
      "display_name": "Python 3"
    },
    "language_info": {
      "name": "python"
    }
  },
  "cells": [
    {
      "cell_type": "markdown",
      "metadata": {
        "id": "view-in-github",
        "colab_type": "text"
      },
      "source": [
        "<a href=\"https://colab.research.google.com/github/kimaelthomas2021/Stats2023/blob/main/ThomasKimael_Final.ipynb\" target=\"_parent\"><img src=\"https://colab.research.google.com/assets/colab-badge.svg\" alt=\"Open In Colab\"/></a>"
      ]
    },
    {
      "cell_type": "code",
      "execution_count": null,
      "metadata": {
        "id": "KtP7dqGCBrX7"
      },
      "outputs": [],
      "source": []
    },
    {
      "cell_type": "markdown",
      "source": [
        "# STA 2023 Final Project\n",
        "## Directions:\n",
        "\n",
        "1) Replace the image dataset in the google slides with your own data.\n",
        "\n",
        "2) Comment and explain all code to the best of your ability.\n",
        "\n",
        "3) Run your model 3 times. \n",
        "\n",
        "4) Report best, worst, and average of the three runs. \n",
        "\n",
        "\n",
        "\n",
        "\n",
        "Use any and all resources available to you.\n",
        "\n",
        "Comment and explain the code.\n",
        "\n",
        "Answer the questions to the best of your abilities.\n",
        "\n",
        "If you have any questions, txt 561-479-8123\n",
        "\n",
        "Save this notebook to your GitHub and submit the link on Canvas\n"
      ],
      "metadata": {
        "id": "vU-T5aoAhMBC"
      }
    },
    {
      "cell_type": "code",
      "execution_count": 3,
      "metadata": {
        "id": "MJjTOJXQY7L2"
      },
      "outputs": [],
      "source": [
        "%%capture\n",
        "!pip install wandb\n",
        "!apt-get install poppler-utils\n",
        "!pip install pdf2image\n",
        "!pip install flashtorch\n",
        "import requests\n",
        "from pdf2image import convert_from_path\n",
        "import matplotlib.pyplot as plt\n",
        "import numpy as np\n",
        "import torch\n",
        "import requests\n",
        "from torchvision import *\n",
        "from torchvision.models import *\n",
        "from flashtorch.utils import apply_transforms\n",
        "import wandb as wb"
      ]
    },
    {
      "cell_type": "code",
      "execution_count": null,
      "metadata": {
        "id": "OcM-MSMRmAXL"
      },
      "outputs": [],
      "source": [
        "def GPU(data):\n",
        "    return torch.tensor(data, requires_grad=True, dtype=torch.float, device=torch.device('cuda'))\n",
        "\n",
        "def GPU_data(data):\n",
        "    return torch.tensor(data, requires_grad=False, dtype=torch.float, device=torch.device('cuda'))\n",
        "\n",
        "def plot(x):\n",
        "    fig, ax = plt.subplots()\n",
        "    im = ax.imshow(x, cmap = 'gray')\n",
        "    ax.axis('off')\n",
        "    fig.set_size_inches(5, 5)\n",
        "    plt.show()\n",
        "    \n",
        "def get_google_slide(url):\n",
        "    url_head = \"https://docs.google.com/presentation/d/\"\n",
        "    url_body = url.split('/')[5]\n",
        "    page_id = url.split('.')[-1]\n",
        "    return url_head + url_body + \"/export/pdf?id=\" + url_body + \"&pageid=\" + page_id\n",
        "\n",
        "def get_slides(url):\n",
        "    url = get_google_slide(url)\n",
        "    r = requests.get(url, allow_redirects=True)\n",
        "    open('file.pdf', 'wb').write(r.content)\n",
        "    images = convert_from_path('file.pdf', 500)\n",
        "    return images\n",
        "\n",
        "def load(image):\n",
        "\n",
        "    return apply_transforms(image).clone().detach().requires_grad_(True).to(device)\n",
        "\n",
        "device = torch.device(\"cuda:0\" if torch.cuda.is_available() else \"cpu\")"
      ]
    },
    {
      "cell_type": "code",
      "execution_count": null,
      "metadata": {
        "id": "opN3hI0lemBV",
        "colab": {
          "base_uri": "https://localhost:8080/",
          "height": 67,
          "referenced_widgets": [
            "4725d795f2ba4852bdac9d4d233e2c9f",
            "006476089cbc4706b4a47a6150c043c3",
            "ef5fe943c02d48ca92f6c67a4bb8cd02",
            "00c69618a4334ce79e2a0f857e2e656f",
            "5562400bd4554dda9aad7627843753d3",
            "ca48594fa8ae450bbbce11dcf6932af3",
            "bcd50fe1ed8f43a4afc87fb12399b707",
            "7e6e8798165e4f028868031c0e830f7e",
            "a10ff98c73424b099a61039363761d10",
            "1daa684092f94ab29a09bd4801c37bc5",
            "5e49a8cfc3ab454db43f4013e25484f4"
          ]
        },
        "outputId": "987618bb-6416-4584-8fbd-6394d4642d09"
      },
      "outputs": [
        {
          "output_type": "stream",
          "name": "stderr",
          "text": [
            "Downloading: \"https://download.pytorch.org/models/alexnet-owt-7be5be79.pth\" to /root/.cache/torch/hub/checkpoints/alexnet-owt-7be5be79.pth\n"
          ]
        },
        {
          "output_type": "display_data",
          "data": {
            "text/plain": [
              "  0%|          | 0.00/233M [00:00<?, ?B/s]"
            ],
            "application/vnd.jupyter.widget-view+json": {
              "version_major": 2,
              "version_minor": 0,
              "model_id": "4725d795f2ba4852bdac9d4d233e2c9f"
            }
          },
          "metadata": {}
        }
      ],
      "source": [
        "labels = {int(key):value for (key, value) in requests.get('https://s3.amazonaws.com/mlpipes/pytorch-quick-start/labels.json').json().items()}\n",
        "\n",
        "model = alexnet(weights='DEFAULT').to(device)\n",
        "model.eval();"
      ]
    },
    {
      "cell_type": "code",
      "source": [
        "#importing and defining variables"
      ],
      "metadata": {
        "id": "QC20ss6i0MXy"
      },
      "execution_count": null,
      "outputs": []
    },
    {
      "cell_type": "code",
      "execution_count": 2,
      "metadata": {
        "id": "2EnZVMTqiqwz"
      },
      "outputs": [],
      "source": [
        "url = \"https://docs.google.com/presentation/d/1BgSdGNOtVRdagIIwyzhTmV2G-_r6gjIXk_e7fQrMdkU/edit#slide=id.g1b006fe2e65_0_314\"\n"
      ]
    },
    {
      "cell_type": "code",
      "source": [
        "#importing photos from the slideshow"
      ],
      "metadata": {
        "id": "2ANuqIrH0QDr"
      },
      "execution_count": null,
      "outputs": []
    },
    {
      "cell_type": "code",
      "execution_count": null,
      "metadata": {
        "id": "h7MhH8hrR3AE"
      },
      "outputs": [],
      "source": [
        "images = []\n",
        "\n",
        "for image in get_slides(url):\n",
        "\n",
        "    plot(image)\n",
        "\n",
        "    images.append(load(image))\n",
        "\n",
        "images = torch.vstack(images)"
      ]
    },
    {
      "cell_type": "code",
      "source": [
        "https://docs.google.com/presentation/d/1BgSdGNOtVRdagIIwyzhTmV2G-_r6gjIXk_e7fQrMdkU/edit#slide=id.g1b006fe2e65_0_314\n"
      ],
      "metadata": {
        "colab": {
          "base_uri": "https://localhost:8080/",
          "height": 131
        },
        "id": "dk0UZkiaVcr7",
        "outputId": "e29db0cc-efda-4419-c6bc-aa5820ffbd39"
      },
      "execution_count": 4,
      "outputs": [
        {
          "output_type": "error",
          "ename": "SyntaxError",
          "evalue": "ignored",
          "traceback": [
            "\u001b[0;36m  File \u001b[0;32m\"<ipython-input-4-a13e9dfdafd7>\"\u001b[0;36m, line \u001b[0;32m1\u001b[0m\n\u001b[0;31m    https://docs.google.com/presentation/d/1BgSdGNOtVRdagIIwyzhTmV2G-_r6gjIXk_e7fQrMdkU/edit#slide=id.g1b006fe2e65_0_314\u001b[0m\n\u001b[0m          ^\u001b[0m\n\u001b[0;31mSyntaxError\u001b[0m\u001b[0;31m:\u001b[0m invalid syntax\n"
          ]
        }
      ]
    },
    {
      "cell_type": "code",
      "source": [
        "#25 lizards and 25 bearded dragons"
      ],
      "metadata": {
        "id": "kUYAgBpi0US1"
      },
      "execution_count": null,
      "outputs": []
    },
    {
      "cell_type": "code",
      "execution_count": null,
      "metadata": {
        "colab": {
          "base_uri": "https://localhost:8080/"
        },
        "id": "uKsUVAPdQwmP",
        "outputId": "9ad11c86-01a1-499e-a85e-27ea679d863a"
      },
      "outputs": [
        {
          "output_type": "execute_result",
          "data": {
            "text/plain": [
              "torch.Size([50, 3, 224, 224])"
            ]
          },
          "metadata": {},
          "execution_count": 6
        }
      ],
      "source": [
        "images.shape"
      ]
    },
    {
      "cell_type": "code",
      "source": [
        "#50 images total, color channels, pixels "
      ],
      "metadata": {
        "id": "j6tzp2m40ZP6"
      },
      "execution_count": null,
      "outputs": []
    },
    {
      "cell_type": "code",
      "execution_count": null,
      "metadata": {
        "colab": {
          "base_uri": "https://localhost:8080/"
        },
        "id": "fJlgt1avR3I9",
        "outputId": "5f953ff8-b3c5-4605-c428-90785d588fd3"
      },
      "outputs": [
        {
          "output_type": "execute_result",
          "data": {
            "text/plain": [
              "tensor([[-2.6144, -2.4993, -2.6845,  ...,  4.2728,  3.2349, -0.7470],\n",
              "        [-4.0759, -5.9215, -1.5388,  ...,  1.3166,  4.5179, -0.8449],\n",
              "        [-3.0919, -6.6342, -3.2411,  ...,  0.6690,  5.9894, -3.1655],\n",
              "        ...,\n",
              "        [-2.3198, -2.5035, -4.6211,  ..., -5.0197,  1.5043,  1.3042],\n",
              "        [-5.0579, -5.1349, -1.7295,  ..., -4.1392,  1.1328,  2.5890],\n",
              "        [-3.3578, -3.8339, -2.0348,  ..., -0.3962, -0.3831,  0.9881]],\n",
              "       device='cuda:0', grad_fn=<AddmmBackward0>)"
            ]
          },
          "metadata": {},
          "execution_count": 7
        }
      ],
      "source": [
        "model(images)"
      ]
    },
    {
      "cell_type": "code",
      "execution_count": null,
      "metadata": {
        "id": "lgGzMREYR3LN"
      },
      "outputs": [],
      "source": [
        "y = model(images)"
      ]
    },
    {
      "cell_type": "code",
      "execution_count": null,
      "metadata": {
        "colab": {
          "base_uri": "https://localhost:8080/"
        },
        "id": "L3NVy8_7T_rb",
        "outputId": "15baa9d7-be48-4365-bd5e-0b9aabf8cf41"
      },
      "outputs": [
        {
          "output_type": "execute_result",
          "data": {
            "text/plain": [
              "torch.Size([50, 1000])"
            ]
          },
          "metadata": {},
          "execution_count": 9
        }
      ],
      "source": [
        "y.shape"
      ]
    },
    {
      "cell_type": "code",
      "execution_count": null,
      "metadata": {
        "id": "UsYfYT6UR3Nn"
      },
      "outputs": [],
      "source": [
        "guesses = torch.argmax(y, 1).cpu().numpy()"
      ]
    },
    {
      "cell_type": "code",
      "execution_count": null,
      "metadata": {
        "colab": {
          "base_uri": "https://localhost:8080/"
        },
        "id": "QvSec8rITW7T",
        "outputId": "ac9a8dd8-6fd9-4a72-b548-e09fc38b02a2"
      },
      "outputs": [
        {
          "output_type": "stream",
          "name": "stdout",
          "text": [
            "koala, koala bear, kangaroo bear, native bear, Phascolarctos cinereus\n",
            "fox squirrel, eastern fox squirrel, Sciurus niger\n",
            "koala, koala bear, kangaroo bear, native bear, Phascolarctos cinereus\n",
            "koala, koala bear, kangaroo bear, native bear, Phascolarctos cinereus\n",
            "Scottish deerhound, deerhound\n",
            "standard poodle\n",
            "timber wolf, grey wolf, gray wolf, Canis lupus\n",
            "fox squirrel, eastern fox squirrel, Sciurus niger\n",
            "proboscis monkey, Nasalis larvatus\n",
            "weasel\n",
            "fox squirrel, eastern fox squirrel, Sciurus niger\n",
            "three-toed sloth, ai, Bradypus tridactylus\n",
            "koala, koala bear, kangaroo bear, native bear, Phascolarctos cinereus\n",
            "badger\n",
            "wood rabbit, cottontail, cottontail rabbit\n",
            "Arctic fox, white fox, Alopex lagopus\n",
            "timber wolf, grey wolf, gray wolf, Canis lupus\n",
            "Arctic fox, white fox, Alopex lagopus\n",
            "Arctic fox, white fox, Alopex lagopus\n",
            "Arctic fox, white fox, Alopex lagopus\n",
            "screen, CRT screen\n",
            "Kerry blue terrier\n",
            "snow leopard, ounce, Panthera uncia\n",
            "Persian cat\n",
            "can opener, tin opener\n",
            "Border collie\n",
            "giant panda, panda, panda bear, coon bear, Ailuropoda melanoleuca\n",
            "giant panda, panda, panda bear, coon bear, Ailuropoda melanoleuca\n",
            "giant panda, panda, panda bear, coon bear, Ailuropoda melanoleuca\n",
            "giant panda, panda, panda bear, coon bear, Ailuropoda melanoleuca\n",
            "giant panda, panda, panda bear, coon bear, Ailuropoda melanoleuca\n",
            "giant panda, panda, panda bear, coon bear, Ailuropoda melanoleuca\n",
            "giant panda, panda, panda bear, coon bear, Ailuropoda melanoleuca\n",
            "giant panda, panda, panda bear, coon bear, Ailuropoda melanoleuca\n",
            "Sealyham terrier, Sealyham\n",
            "giant panda, panda, panda bear, coon bear, Ailuropoda melanoleuca\n",
            "giant panda, panda, panda bear, coon bear, Ailuropoda melanoleuca\n",
            "giant panda, panda, panda bear, coon bear, Ailuropoda melanoleuca\n",
            "giant panda, panda, panda bear, coon bear, Ailuropoda melanoleuca\n",
            "giant panda, panda, panda bear, coon bear, Ailuropoda melanoleuca\n",
            "Maltese dog, Maltese terrier, Maltese\n",
            "giant panda, panda, panda bear, coon bear, Ailuropoda melanoleuca\n",
            "giant panda, panda, panda bear, coon bear, Ailuropoda melanoleuca\n",
            "giant panda, panda, panda bear, coon bear, Ailuropoda melanoleuca\n",
            "giant panda, panda, panda bear, coon bear, Ailuropoda melanoleuca\n",
            "giant panda, panda, panda bear, coon bear, Ailuropoda melanoleuca\n",
            "giant panda, panda, panda bear, coon bear, Ailuropoda melanoleuca\n",
            "indri, indris, Indri indri, Indri brevicaudatus\n",
            "giant panda, panda, panda bear, coon bear, Ailuropoda melanoleuca\n",
            "giant panda, panda, panda bear, coon bear, Ailuropoda melanoleuca\n"
          ]
        }
      ],
      "source": [
        "for i in list(guesses):\n",
        "    print(labels[i])"
      ]
    },
    {
      "cell_type": "code",
      "source": [
        "#guesses"
      ],
      "metadata": {
        "id": "zTHHTqO-0jkR"
      },
      "execution_count": null,
      "outputs": []
    },
    {
      "cell_type": "code",
      "execution_count": null,
      "metadata": {
        "id": "CALvf79gjAY-"
      },
      "outputs": [],
      "source": [
        "Y = np.zeros(50,)\n",
        "Y[25:] = 1"
      ]
    },
    {
      "cell_type": "code",
      "execution_count": null,
      "metadata": {
        "colab": {
          "base_uri": "https://localhost:8080/"
        },
        "id": "HSF3ICfP04kM",
        "outputId": "1bbda304-d80b-411a-d42e-3fa2a647df94"
      },
      "outputs": [
        {
          "output_type": "execute_result",
          "data": {
            "text/plain": [
              "array([0., 0., 0., 0., 0., 0., 0., 0., 0., 0., 0., 0., 0., 0., 0., 0., 0.,\n",
              "       0., 0., 0., 0., 0., 0., 0., 0., 1., 1., 1., 1., 1., 1., 1., 1., 1.,\n",
              "       1., 1., 1., 1., 1., 1., 1., 1., 1., 1., 1., 1., 1., 1., 1., 1.])"
            ]
          },
          "metadata": {},
          "execution_count": 13
        }
      ],
      "source": [
        "Y"
      ]
    },
    {
      "cell_type": "code",
      "source": [
        "#first 25 are all 0, second 25 are all 1 s"
      ],
      "metadata": {
        "id": "m97hDVl40lLW"
      },
      "execution_count": null,
      "outputs": []
    },
    {
      "cell_type": "code",
      "execution_count": null,
      "metadata": {
        "id": "ZqvMEcxhY6dl"
      },
      "outputs": [],
      "source": [
        "X = y.detach().cpu().numpy() "
      ]
    },
    {
      "cell_type": "code",
      "execution_count": null,
      "metadata": {
        "colab": {
          "base_uri": "https://localhost:8080/"
        },
        "id": "KqPB9TKyEJCS",
        "outputId": "8406adad-839b-4b90-a924-353c2adb25b0"
      },
      "outputs": [
        {
          "output_type": "execute_result",
          "data": {
            "text/plain": [
              "(50, 1000)"
            ]
          },
          "metadata": {},
          "execution_count": 15
        }
      ],
      "source": [
        "X.shape"
      ]
    },
    {
      "cell_type": "code",
      "execution_count": null,
      "metadata": {
        "colab": {
          "base_uri": "https://localhost:8080/",
          "height": 283
        },
        "id": "OB9J8q8LEgCG",
        "outputId": "c51bf7a0-60b4-4238-9642-624168e9bb97"
      },
      "outputs": [
        {
          "output_type": "execute_result",
          "data": {
            "text/plain": [
              "[<matplotlib.lines.Line2D at 0x7f028125d670>]"
            ]
          },
          "metadata": {},
          "execution_count": 16
        },
        {
          "output_type": "display_data",
          "data": {
            "text/plain": [
              "<Figure size 432x288 with 1 Axes>"
            ],
            "image/png": "[encoded data removed]"
          },
          "metadata": {
            "needs_background": "light"
          }
        }
      ],
      "source": [
        "plt.plot(X[0],'.')"
      ]
    },
    {
      "cell_type": "code",
      "source": [
        "#plotting the data "
      ],
      "metadata": {
        "id": "zoaQA7lV0sCy"
      },
      "execution_count": null,
      "outputs": []
    },
    {
      "cell_type": "code",
      "execution_count": null,
      "metadata": {
        "colab": {
          "base_uri": "https://localhost:8080/"
        },
        "id": "_pfcg2h51IQr",
        "outputId": "9a908b70-013e-4a4e-a4bc-ea1c39ef6c10"
      },
      "outputs": [
        {
          "output_type": "execute_result",
          "data": {
            "text/plain": [
              "array([-2.61438799e+00, -2.49933624e+00, -2.68453908e+00, -3.56752205e+00,\n",
              "       -1.96983242e+00,  2.72987628e+00,  1.24447131e+00, -3.92953110e+00,\n",
              "       -1.21780336e+00,  2.19492269e+00,  3.87390280e+00, -6.76905572e-01,\n",
              "        3.63442078e-02,  2.10136676e+00,  1.66577780e+00,  1.95183074e+00,\n",
              "        1.75988090e+00,  1.80674493e+00,  3.60423160e+00,  4.11977440e-01,\n",
              "        2.20682812e+00, -6.75022423e-01, -1.90860283e+00,  4.92345810e-01,\n",
              "        2.81465441e-01, -2.66302991e+00,  1.15820980e+00, -7.29272187e-01,\n",
              "       -9.29340422e-01,  4.31894398e+00,  9.14726257e-01,  3.94911289e+00,\n",
              "        2.15957236e+00,  2.48062873e+00,  2.19350600e+00,  4.89572048e+00,\n",
              "        3.77446628e+00,  2.32154346e+00,  1.37875378e+00,  2.92213702e+00,\n",
              "        6.85085177e-01,  1.54534176e-01,  8.68967235e-01,  5.87648296e+00,\n",
              "       -4.90025789e-01, -2.18635082e+00,  8.83844316e-01,  4.16281271e+00,\n",
              "        2.48665190e+00, -1.08381294e-01,  6.97355151e-01,  8.16068470e-01,\n",
              "        1.18118250e+00,  4.00068492e-01,  2.39412761e+00, -7.96657279e-02,\n",
              "        3.98233563e-01, -3.94811893e+00, -9.75350142e-01,  9.21373606e-01,\n",
              "        1.60475123e+00,  2.63557172e+00,  3.04954958e+00,  2.45712638e+00,\n",
              "        2.74803948e+00,  1.41002047e+00,  3.74150991e+00,  2.98682356e+00,\n",
              "        3.62505627e+00,  3.93375182e+00, -3.43587071e-01,  1.00148416e+00,\n",
              "       -3.18116760e+00,  2.90370822e+00,  2.75512367e-01,  1.69079614e+00,\n",
              "        2.73639703e+00,  3.69264555e+00,  1.67097139e+00, -2.93616199e+00,\n",
              "        2.15057611e+00, -7.08793402e-01,  2.66257572e+00, -3.24792951e-01,\n",
              "        2.51097679e-01,  2.50509310e+00,  2.09510446e+00,  6.85037151e-02,\n",
              "        5.29467702e-01,  7.28153467e-01, -2.74973297e+00,  1.05417764e+00,\n",
              "        1.26224935e+00,  1.44952506e-01,  2.11604953e+00,  1.66902137e+00,\n",
              "        5.92612624e-01,  3.09332788e-01,  3.17695475e+00,  4.89763021e-01,\n",
              "       -3.02886796e+00,  9.83187675e-01,  3.01274776e+00,  8.44316578e+00,\n",
              "        7.73442173e+00,  1.55928621e+01,  8.61490917e+00, -3.00147986e+00,\n",
              "       -2.84506631e+00, -8.96963239e-01, -2.20274282e+00, -1.59124696e+00,\n",
              "        2.70525932e+00,  4.16542149e+00,  2.11349106e+00, -3.86973715e+00,\n",
              "        1.89200473e+00,  1.68363941e+00, -2.64209509e+00,  1.08225620e+00,\n",
              "        2.18962407e+00, -4.87156248e+00, -3.28645778e+00, -3.73376250e+00,\n",
              "        6.96540356e-01,  1.21357536e+00,  1.64787090e+00, -4.80598688e+00,\n",
              "       -1.07030952e+00, -1.31532204e+00, -4.77480268e+00, -3.33080268e+00,\n",
              "       -4.22328806e+00, -3.35904503e+00, -1.98473561e+00, -7.31483102e-01,\n",
              "        3.72020483e-01, -1.80706084e+00, -1.89030021e-01, -1.92234457e+00,\n",
              "       -1.90901899e+00, -1.40062845e+00, -8.20949674e-01, -2.72991824e+00,\n",
              "        4.80040669e-01,  9.47109818e-01,  1.13523817e+00, -1.27622318e+00,\n",
              "       -4.03686953e+00,  4.38530177e-01,  3.71478677e+00,  3.34259081e+00,\n",
              "       -1.20134497e+00,  6.18463278e-01,  9.88445222e-01,  1.56531560e+00,\n",
              "        1.57405615e+00,  2.08254981e+00,  7.54792631e-01, -7.83551484e-02,\n",
              "        6.65520966e-01,  8.35066676e-01,  1.84973940e-01,  1.11481273e+00,\n",
              "       -2.06603602e-01, -1.26233983e+00,  2.55578327e+00,  1.03683734e+00,\n",
              "        1.83625567e+00, -1.47700882e+00,  1.66850936e+00,  1.86584318e+00,\n",
              "        2.60431504e+00,  3.27135772e-01,  3.37680292e+00, -3.46189052e-01,\n",
              "       -2.57776523e+00,  3.01970601e+00, -8.66500854e-01,  4.13168287e+00,\n",
              "        3.28375292e+00,  3.07033706e+00,  4.25133944e+00,  3.57729101e+00,\n",
              "        4.13727570e+00,  5.11390591e+00,  2.68935108e+00,  1.34630764e+00,\n",
              "        2.17018700e+00,  3.31736755e+00,  8.23315740e-01,  3.15937519e+00,\n",
              "        2.84498143e+00,  3.21982801e-01, -3.36213380e-01,  1.81112945e+00,\n",
              "        1.47242641e+00, -4.35522348e-01,  8.94459307e-01,  1.89163363e+00,\n",
              "        2.20967031e+00,  1.13097823e+00,  7.01222181e-01, -9.80142117e-01,\n",
              "        4.71475363e-01,  1.31736428e-01,  2.91052723e+00, -2.34734488e+00,\n",
              "        1.20834744e+00,  2.34749079e+00,  1.33009887e+00, -6.87957704e-01,\n",
              "       -1.54251587e+00,  9.58613276e-01, -3.23299885e-01, -2.75906682e-01,\n",
              "       -1.22400713e+00, -1.96954536e+00,  4.21932459e-01,  8.50064278e-01,\n",
              "        7.16976941e-01,  3.55681491e+00, -1.05246544e+00,  9.40313995e-01,\n",
              "        1.67841661e+00,  3.26864958e+00,  2.62795663e+00,  3.11544275e+00,\n",
              "       -1.31291139e+00, -3.08385901e-02,  2.26569271e+00,  3.58981371e-01,\n",
              "       -2.46233082e+00,  2.74255276e+00,  1.08756638e+00,  8.07779908e-01,\n",
              "       -5.02366900e-01,  1.85945421e-01,  8.58464599e-01,  1.39509618e+00,\n",
              "        2.13203698e-01, -9.31223392e-01,  5.87203741e+00,  3.94044733e+00,\n",
              "        3.78210282e+00,  3.02431226e+00,  3.21224880e+00,  1.92153609e+00,\n",
              "        1.27416921e+00,  1.22307289e+00,  2.78317738e+00, -3.62647676e+00,\n",
              "        1.11693347e+00,  4.24577284e+00,  2.90231609e+00,  2.05556393e+00,\n",
              "        1.95065331e+00, -1.21242189e+00, -1.09149456e+00,  3.02001786e+00,\n",
              "        8.51863956e+00,  2.45940685e+00,  4.56614733e+00, -1.08094645e+00,\n",
              "        1.87907004e+00,  4.08617830e+00,  3.42279077e+00,  3.27586913e+00,\n",
              "        6.16983938e+00,  4.85874605e+00,  3.72742438e+00,  4.87302971e+00,\n",
              "        4.41670752e+00,  3.48975849e+00,  5.36521482e+00,  1.28410518e+00,\n",
              "        4.61200094e+00,  4.10867167e+00,  4.94218445e+00,  7.06019878e+00,\n",
              "        8.18266010e+00,  5.61171770e+00,  4.54068947e+00,  3.63962889e+00,\n",
              "        4.69235754e+00,  4.96604967e+00,  7.24735594e+00,  5.22407866e+00,\n",
              "        1.13110256e+00,  1.85848586e-02,  1.38117528e+00,  3.66478276e+00,\n",
              "       -1.13226116e+00, -3.72356772e-01,  6.26359367e+00,  4.98242760e+00,\n",
              "        9.21553850e-01,  4.94482231e+00,  7.07480145e+00,  6.33853531e+00,\n",
              "       -2.98219919e+00, -1.50894487e+00,  2.27122784e-01,  4.75899339e-01,\n",
              "        1.16858557e-02, -1.52022922e+00,  4.18045664e+00, -2.43208557e-01,\n",
              "       -3.80613923e-01,  8.04407969e-02,  5.81306815e-01, -1.77788472e+00,\n",
              "       -1.47882271e+00, -9.94561970e-01,  1.64356577e+00, -1.43339753e+00,\n",
              "        1.47626913e+00, -2.37144828e-01, -1.24384157e-01,  6.10065103e-01,\n",
              "       -2.84825683e+00, -2.23774338e+00,  1.99449730e+00, -4.80136538e+00,\n",
              "       -5.06011434e-02, -3.76208377e+00, -1.98186189e-01, -1.34188604e+00,\n",
              "        7.46516228e-01,  1.69003773e+00,  7.77324247e+00,  5.41856337e+00,\n",
              "        7.68272591e+00,  5.74583244e+00,  5.04661798e+00,  1.10638885e+01,\n",
              "        8.38216496e+00,  8.56649685e+00,  6.51375723e+00, -6.59545720e-01,\n",
              "        2.77907103e-02,  4.67254400e+00,  3.65492964e+00,  4.65624714e+00,\n",
              "        3.52368307e+00,  2.32886887e+00,  3.90937066e+00,  4.94265795e+00,\n",
              "        5.22908068e+00,  5.86534643e+00,  3.52115917e+00,  1.13945633e-01,\n",
              "        1.58842906e-01,  1.59063292e+00,  7.64897203e+00,  8.00124454e+00,\n",
              "        7.37071705e+00,  8.48134327e+00,  4.46665668e+00,  3.78622913e+00,\n",
              "        5.86660433e+00,  4.07561302e+00,  4.13942528e+00,  2.25719738e+00,\n",
              "        1.13500328e+01,  8.83767986e+00,  4.99314737e+00,  5.68089485e+00,\n",
              "        7.27836561e+00,  8.04500103e+00,  9.10934448e+00,  1.02721100e+01,\n",
              "        9.31893253e+00,  7.67492628e+00,  6.22170925e+00,  6.01559401e+00,\n",
              "        8.93302727e+00,  9.89777088e+00,  8.06730270e+00,  9.05834198e+00,\n",
              "        1.21039839e+01,  7.77345085e+00,  6.40283489e+00,  7.99592304e+00,\n",
              "        1.09287863e+01,  1.62991655e+00,  2.75533229e-01,  4.16938257e+00,\n",
              "        1.76048613e+00, -3.05209899e+00,  1.00480497e+00, -1.83836949e+00,\n",
              "       -1.38768995e+00, -4.64412260e+00, -3.44101048e+00, -2.61661142e-01,\n",
              "       -4.60687923e+00,  1.55277896e+00, -1.34283042e+00, -5.91864920e+00,\n",
              "       -3.67001534e+00, -3.28881359e+00, -3.38660860e+00, -5.53283691e+00,\n",
              "       -6.90421772e+00, -6.37151098e+00, -3.05102229e+00, -4.75405884e+00,\n",
              "       -4.14612627e+00, -2.29381800e+00, -2.80136228e+00, -1.23446441e+00,\n",
              "        2.44722080e+00, -3.42355514e+00, -2.00194383e+00, -9.62937996e-02,\n",
              "       -4.08786535e+00, -4.11012888e+00, -1.29247439e+00,  2.84551591e-01,\n",
              "        2.00328603e-01,  7.32980072e-02, -2.85462308e+00, -1.83936942e+00,\n",
              "        4.54833061e-01, -2.26010108e+00,  7.82520533e-01,  1.20601332e+00,\n",
              "        1.83102429e+00, -1.37344646e+00, -4.20212030e+00, -3.61772269e-01,\n",
              "       -2.91020775e+00, -1.50369406e+00,  1.59389865e+00,  2.61763430e+00,\n",
              "       -5.19345760e+00, -1.67188239e+00,  2.37237024e+00,  1.27871215e-01,\n",
              "        1.29198730e+00, -2.04676247e+00, -2.69953489e+00,  3.56126332e+00,\n",
              "       -4.70734119e+00, -3.01120806e+00, -3.40947104e+00,  1.20253050e+00,\n",
              "        4.49906301e+00, -3.12387753e+00, -1.81221128e+00,  8.07838917e-01,\n",
              "        7.14750111e-01, -1.12291014e+00, -3.08216047e+00, -1.14531589e+00,\n",
              "        4.20823157e-01,  6.57954752e-01, -1.39342248e+00,  9.62482810e-01,\n",
              "       -2.73605371e+00,  1.06471419e+00,  4.26580489e-01,  5.99993944e+00,\n",
              "        1.36886859e+00, -6.18878543e-01, -4.14066505e+00, -1.68366921e+00,\n",
              "       -5.34353542e+00,  2.17522883e+00,  1.79079747e+00, -1.24727857e+00,\n",
              "       -1.29878879e+00, -2.57991344e-01,  6.09462500e-01, -2.89868236e-01,\n",
              "       -2.37166643e+00, -1.77353311e+00,  2.23958135e+00, -2.38524127e+00,\n",
              "       -3.31158066e+00, -1.58041966e+00, -1.98273683e+00, -3.58595181e+00,\n",
              "       -7.73554945e+00, -3.75183344e+00, -3.23280215e+00, -3.88628095e-01,\n",
              "        1.17077458e+00,  1.12917697e+00, -2.61449122e+00,  4.22323883e-01,\n",
              "       -7.53178835e-01, -5.38676262e+00,  3.23008871e+00, -2.12525082e+00,\n",
              "        1.06862247e+00, -4.21973848e+00, -6.03497314e+00,  1.94610548e+00,\n",
              "       -1.53973269e+00, -1.30655205e+00,  4.33516502e+00, -1.31332648e+00,\n",
              "        2.37720418e+00,  1.53859019e+00, -2.92155981e-01, -2.42718506e+00,\n",
              "       -7.61014163e-01, -3.11404228e+00, -4.61173153e+00, -5.41219759e+00,\n",
              "       -6.90531671e-01, -2.08256269e+00, -2.69699979e+00,  1.01837432e+00,\n",
              "       -3.38278562e-01, -4.06276655e+00,  6.59675479e-01,  2.63647604e+00,\n",
              "       -2.73691058e+00,  9.10588264e-01, -6.31720901e-01, -9.33648467e-01,\n",
              "        3.52737665e-01, -2.66267729e+00, -2.88432860e+00, -1.41884401e-01,\n",
              "       -3.40526414e+00, -2.14434788e-01, -3.27385139e+00, -2.05815840e+00,\n",
              "       -2.35550255e-01, -1.44987071e+00,  1.63947195e-02, -2.48701906e+00,\n",
              "       -5.86090136e+00, -3.39412594e+00, -3.99530959e+00,  2.22757983e+00,\n",
              "       -6.36183739e+00, -2.68574905e+00, -3.14080405e+00,  1.13357961e+00,\n",
              "       -2.00826788e+00, -1.27107525e+00, -1.63804936e+00, -5.09670782e+00,\n",
              "       -2.99086761e+00, -7.03692809e-02, -7.06205666e-01, -4.51565742e-01,\n",
              "       -1.61537015e+00, -1.62281799e+00, -5.92263889e+00, -5.01611996e+00,\n",
              "       -5.83299494e+00, -9.70466852e-01,  1.45712948e+00, -5.14112043e+00,\n",
              "       -2.37418556e+00, -3.61712766e+00, -1.22255221e-01, -4.56461906e+00,\n",
              "       -2.71674728e+00, -4.52300215e+00, -1.03774452e+00, -2.43356061e+00,\n",
              "        2.46950984e+00, -3.08526945e+00,  1.32744312e+00, -1.59400916e+00,\n",
              "        7.35952929e-02, -4.82580471e+00,  1.25340140e+00, -2.66733265e+00,\n",
              "       -7.91807270e+00,  1.77874219e+00, -3.31614017e+00, -3.54387760e+00,\n",
              "       -2.49436259e+00, -5.44159651e+00, -9.07022357e-01,  7.82926440e-01,\n",
              "        1.27643061e+00, -7.82066882e-01, -1.12929797e+00,  2.68403292e+00,\n",
              "        1.67690670e+00, -1.08480561e+00, -3.12324739e+00, -1.44449782e+00,\n",
              "       -2.23127341e+00, -2.18493032e+00, -1.56894791e+00, -4.00355577e+00,\n",
              "        5.28560495e+00, -2.35932255e+00, -3.89135003e+00,  1.25104272e+00,\n",
              "        3.06494808e+00, -1.24796867e+00, -4.60552931e+00, -3.89946246e+00,\n",
              "        1.16768205e+00,  2.40833998e+00,  2.06740284e+00, -2.74762177e+00,\n",
              "       -5.29651880e+00, -2.18787122e+00, -1.67053115e+00,  2.67689896e+00,\n",
              "       -5.19315815e+00, -3.04958200e+00, -2.08202481e+00, -2.64562201e+00,\n",
              "        2.71565318e+00,  3.93949002e-02, -1.16584867e-01,  4.77089792e-01,\n",
              "       -1.43194878e+00, -3.56213284e+00, -1.60967076e+00, -1.98309529e+00,\n",
              "       -4.22402859e+00, -5.41375732e+00, -7.95115948e-01, -5.63557816e+00,\n",
              "       -7.73916817e+00, -4.21697474e+00,  5.28829992e-01, -1.74156308e+00,\n",
              "       -3.23125482e+00,  1.90650773e+00, -6.99389100e-01, -1.10258424e+00,\n",
              "        3.99295449e-01, -4.04725742e+00, -4.22358131e+00, -2.10493827e+00,\n",
              "       -4.10628510e+00, -2.04530382e+00, -6.07612669e-01,  3.62877655e+00,\n",
              "       -1.64237225e+00, -4.97455549e+00, -2.04797935e+00, -5.52305460e-01,\n",
              "        4.45950255e-02, -1.04987025e+00, -1.99843836e+00, -2.28106165e+00,\n",
              "       -2.32869005e+00,  3.38790059e+00, -3.71821761e+00, -4.12560225e+00,\n",
              "       -4.04337978e+00, -3.08657694e+00,  4.37490749e+00, -3.57268184e-01,\n",
              "       -2.67613530e+00, -6.67992878e+00, -1.93191099e+00, -5.82298338e-01,\n",
              "       -3.78952399e-02, -5.56201172e+00,  5.21395683e+00, -7.07522966e-03,\n",
              "       -4.31903458e+00, -2.55409813e+00, -2.64273357e+00, -3.58743715e+00,\n",
              "       -3.30034637e+00,  1.78115904e-01,  6.90489483e+00, -4.18149900e+00,\n",
              "        2.90486693e+00,  2.98598075e+00,  1.92442250e+00, -8.81900251e-01,\n",
              "        2.15522838e+00, -2.32634020e+00, -5.60723877e+00, -1.72581375e+00,\n",
              "        1.78403890e+00, -3.85499096e+00, -3.63813907e-01, -7.55363417e+00,\n",
              "       -3.32006335e+00, -1.94154036e+00, -2.67860794e+00,  1.40917790e+00,\n",
              "        7.88976550e-01, -2.83354163e+00, -3.07071805e+00,  4.22585964e+00,\n",
              "        1.24834739e-01, -3.12845087e+00, -3.88384604e+00,  1.87104851e-01,\n",
              "        2.93733716e+00, -3.01279855e+00, -4.76598835e+00, -1.15778834e-01,\n",
              "       -3.13264298e+00, -5.50042439e+00, -1.39338267e+00, -3.87172031e+00,\n",
              "       -1.12413920e-01,  2.01775372e-01,  1.49882746e+00, -2.55187583e+00,\n",
              "        6.25976920e-01,  3.23331058e-01, -7.16499805e-01, -2.91028929e+00,\n",
              "       -1.08809352e-01, -4.42971659e+00, -3.57228875e+00, -5.77422619e-01,\n",
              "       -6.57252967e-04,  3.54823321e-01,  2.52844214e+00,  3.55381399e-01,\n",
              "       -2.80268574e+00,  3.29129457e+00,  1.58473328e-02, -5.83807945e+00,\n",
              "        2.48833585e+00, -1.91759109e+00, -1.96843851e+00,  3.11748600e+00,\n",
              "       -3.98755550e+00,  1.25475442e+00, -5.79939604e+00, -5.96438229e-01,\n",
              "       -3.67569232e+00, -1.56539607e+00,  5.93504000e+00,  6.92706466e-01,\n",
              "       -9.05271292e-01, -8.07986408e-02, -6.53723896e-01, -1.24310315e+00,\n",
              "       -2.99993694e-01, -3.12228012e+00, -1.04187536e+00, -1.39229596e+00,\n",
              "        9.91700292e-02, -1.01076365e+00, -3.98913324e-01, -3.15935636e+00,\n",
              "       -3.04218125e+00,  4.77861285e-01, -3.79001689e+00, -3.68745303e+00,\n",
              "        1.16548669e+00, -3.13440013e+00, -8.90629709e-01, -2.77424431e+00,\n",
              "       -3.16541880e-01, -1.50215662e+00, -1.88324535e+00, -3.37605268e-01,\n",
              "       -1.10705507e+00, -7.62154281e-01, -9.47448194e-01, -1.69510269e+00,\n",
              "       -1.36039734e+00,  1.57348084e+00, -3.03960538e+00, -2.21590686e+00,\n",
              "       -5.39045036e-01, -5.94221234e-01, -2.44667602e+00, -2.42637897e+00,\n",
              "       -3.48277569e+00, -5.62011957e-01,  1.03277707e+00, -5.48900652e+00,\n",
              "       -4.63171101e+00, -6.27470255e+00,  1.61278844e+00,  3.44209814e+00,\n",
              "       -3.39655608e-01,  1.00419199e+00, -9.34979260e-01,  1.50136864e+00,\n",
              "       -3.48986745e+00,  9.20704365e-01,  1.27853072e+00, -2.35565710e+00,\n",
              "        1.55253124e+00,  2.21416616e+00, -1.56305003e+00, -2.32109928e+00,\n",
              "        1.15566336e-01, -7.40776360e-01, -7.90543020e-01,  1.01809636e-01,\n",
              "       -3.60072517e+00, -1.79578257e+00, -2.36322117e+00, -3.89138532e+00,\n",
              "        1.75191176e+00,  2.12744862e-01,  6.45834506e-01,  5.82513869e-01,\n",
              "       -5.91464043e-02,  1.39569438e+00, -3.90640330e+00, -4.90306854e-01,\n",
              "       -3.24520206e+00, -8.41931760e-01, -3.07223058e+00, -9.10697162e-01,\n",
              "        2.95538020e+00, -5.35667992e+00, -8.57741952e-01, -6.41742802e+00,\n",
              "       -3.19898677e+00, -5.16676760e+00, -2.88711756e-01, -1.09913659e+00,\n",
              "        2.20504093e+00, -7.59861827e-01,  1.53800559e+00, -1.77010632e+00,\n",
              "       -1.20197713e-01, -4.70043993e+00, -3.55373120e+00, -2.62010837e+00,\n",
              "       -5.09954309e+00, -4.19548035e+00, -2.56394601e+00,  1.56725550e+00,\n",
              "        7.50773907e-01,  1.62993312e+00,  8.00050497e-01, -3.74124146e+00,\n",
              "        9.24635492e-03,  3.93083870e-01, -2.06525373e+00, -3.36005282e+00,\n",
              "        1.16015039e-01, -8.96119297e-01, -3.47535014e-01, -1.73052812e+00,\n",
              "       -3.06101370e+00, -2.46892795e-01,  8.66432953e+00,  8.47553074e-01,\n",
              "        2.56880951e+00, -8.19344699e-01, -7.45805597e+00,  3.42766285e+00,\n",
              "       -1.14944112e+00, -5.33222532e+00, -1.66004062e+00,  1.77607334e+00,\n",
              "       -1.11835802e+00,  2.72458482e+00, -2.33241510e+00,  7.00351298e-01,\n",
              "       -4.22972012e+00, -9.76589799e-01, -2.57497001e+00, -2.66615677e+00,\n",
              "        4.80406284e-01, -5.28941536e+00, -3.95495987e+00, -5.42367411e+00,\n",
              "       -4.06182098e+00, -2.93965483e+00, -5.10654593e+00, -2.84460855e+00,\n",
              "        2.78386497e+00, -2.92989564e+00, -3.59012842e+00, -1.54846311e+00,\n",
              "       -2.35946774e+00, -3.72404575e+00, -4.04974031e+00,  2.18663383e+00,\n",
              "       -1.09665954e+00, -1.47977912e+00, -2.94643426e+00, -3.80854368e-01,\n",
              "       -2.60920548e+00, -1.78883815e+00, -3.06083965e+00, -1.64724684e+00,\n",
              "       -1.59171605e+00, -1.19528808e-02, -2.74004412e+00, -4.81605339e+00,\n",
              "        5.20801687e+00,  1.61437619e+00,  3.70090663e-01,  3.69195151e+00,\n",
              "       -2.77878451e+00,  3.13182449e+00,  1.94729698e+00,  1.14628568e-01,\n",
              "        2.88263679e+00,  5.87588072e-01, -6.37823880e-01, -6.32141456e-02,\n",
              "       -5.90138435e+00, -1.31064856e+00,  3.06540084e+00,  5.47562838e+00,\n",
              "        3.49601078e+00, -6.37054324e-01, -4.73016119e+00, -4.26512003e+00,\n",
              "       -8.30034792e-01, -2.04977846e+00,  1.07609108e-01, -4.53683710e+00,\n",
              "       -4.71238089e+00,  2.73113418e+00, -1.47556162e+00,  2.58392262e+00,\n",
              "        1.59276471e-01,  1.75455177e+00,  4.39056218e-01, -3.35209489e-01,\n",
              "       -1.29267192e+00,  2.61379600e+00,  3.31619084e-01,  4.17210698e-01,\n",
              "       -6.67994261e-01, -1.23820651e+00, -6.25043392e-01, -1.43022850e-01,\n",
              "        1.91828206e-01,  3.31586838e+00,  7.45098352e-01,  1.62505254e-01,\n",
              "       -1.44640875e+00, -1.02618515e+00,  6.71244085e-01, -1.18924767e-01,\n",
              "       -1.35051286e+00,  7.75810182e-02, -3.19254136e+00,  5.03319502e+00,\n",
              "       -3.57935637e-01, -8.48345757e-01, -1.96431899e+00, -1.07462573e+00,\n",
              "        3.80961180e+00, -8.31209302e-01, -2.37726107e-01, -5.31948283e-02,\n",
              "        3.33167720e+00,  1.35526848e+00, -1.68637753e+00, -3.44968843e+00,\n",
              "       -5.41225791e-01, -1.12437701e+00,  1.33657241e+00, -2.96576285e+00,\n",
              "        4.21062075e-02,  1.89459920e+00, -3.34916949e-01, -2.85482311e+00,\n",
              "        2.98365879e+00,  1.81406057e+00, -1.49643826e+00,  4.42525223e-02,\n",
              "       -9.37158287e-01, -3.27333784e+00, -2.42554688e+00, -1.74033988e+00,\n",
              "       -1.84164357e+00, -3.20634532e+00, -2.31426477e+00, -2.05672622e+00,\n",
              "        3.78251940e-01, -2.90338254e+00, -3.71404767e+00, -3.88737345e+00,\n",
              "       -2.31219912e+00, -2.41954541e+00, -4.72138166e+00,  1.66656399e+00,\n",
              "        5.37783480e+00,  2.42374015e+00,  2.54487967e+00, -3.61316895e+00,\n",
              "       -1.76300859e+00,  1.91670597e+00,  9.83230829e-01,  4.10438061e+00,\n",
              "        1.72815275e+00,  4.27280664e+00,  3.23492432e+00, -7.46953666e-01],\n",
              "      dtype=float32)"
            ]
          },
          "metadata": {},
          "execution_count": 17
        }
      ],
      "source": [
        "X[0]"
      ]
    },
    {
      "cell_type": "code",
      "execution_count": null,
      "metadata": {
        "colab": {
          "base_uri": "https://localhost:8080/"
        },
        "id": "BaHI4-u_1O87",
        "outputId": "38c11369-5f30-4126-d2a5-c1a54014c308"
      },
      "outputs": [
        {
          "output_type": "execute_result",
          "data": {
            "text/plain": [
              "105"
            ]
          },
          "metadata": {},
          "execution_count": 18
        }
      ],
      "source": [
        "np.argmax(X[0])"
      ]
    },
    {
      "cell_type": "code",
      "execution_count": null,
      "metadata": {
        "colab": {
          "base_uri": "https://localhost:8080/",
          "height": 35
        },
        "id": "lEJfAcaM2mdG",
        "outputId": "f3d2c191-7a9e-4454-8906-825f98545082"
      },
      "outputs": [
        {
          "output_type": "execute_result",
          "data": {
            "text/plain": [
              "'Granny Smith'"
            ],
            "application/vnd.google.colaboratory.intrinsic+json": {
              "type": "string"
            }
          },
          "metadata": {},
          "execution_count": 21
        }
      ],
      "source": [
        "labels[948]"
      ]
    },
    {
      "cell_type": "code",
      "source": [
        "#the different types of categories that the function has"
      ],
      "metadata": {
        "id": "4x1ronBP0wJk"
      },
      "execution_count": null,
      "outputs": []
    },
    {
      "cell_type": "code",
      "execution_count": null,
      "metadata": {
        "id": "r3wq2fNM13K9"
      },
      "outputs": [],
      "source": [
        "top_ten = np.argsort(X[0])[::-1][0:10]"
      ]
    },
    {
      "cell_type": "code",
      "execution_count": null,
      "metadata": {
        "colab": {
          "base_uri": "https://localhost:8080/"
        },
        "id": "d3awGR9i18os",
        "outputId": "b3ebf5bd-a02f-49e8-8573-f83e7bbc8b52"
      },
      "outputs": [
        {
          "output_type": "stream",
          "name": "stdout",
          "text": [
            "koala, koala bear, kangaroo bear, native bear, Phascolarctos cinereus\n",
            "titi, titi monkey\n",
            "three-toed sloth, ai, Bradypus tridactylus\n",
            "fox squirrel, eastern fox squirrel, Sciurus niger\n",
            "indri, indris, Indri indri, Indri brevicaudatus\n",
            "patas, hussar monkey, Erythrocebus patas\n",
            "marmoset\n",
            "baboon\n",
            "guenon, guenon monkey\n",
            "howler monkey, howler\n"
          ]
        }
      ],
      "source": [
        "for i in top_ten:\n",
        "    print(labels[i])"
      ]
    },
    {
      "cell_type": "code",
      "source": [
        "#the top guesses for my pictures"
      ],
      "metadata": {
        "id": "gcs4M8Gh07hz"
      },
      "execution_count": null,
      "outputs": []
    },
    {
      "cell_type": "code",
      "execution_count": null,
      "metadata": {
        "colab": {
          "base_uri": "https://localhost:8080/"
        },
        "id": "SXOMKyB_1Zfa",
        "outputId": "f46351f1-338b-4dcd-d08a-4d6b3b4a7c09"
      },
      "outputs": [
        {
          "output_type": "execute_result",
          "data": {
            "text/plain": [
              "{0: 'tench, Tinca tinca',\n",
              " 1: 'goldfish, Carassius auratus',\n",
              " 2: 'great white shark, white shark, man-eater, man-eating shark, Carcharodon carcharias',\n",
              " 3: 'tiger shark, Galeocerdo cuvieri',\n",
              " 4: 'hammerhead, hammerhead shark',\n",
              " 5: 'electric ray, crampfish, numbfish, torpedo',\n",
              " 6: 'stingray',\n",
              " 7: 'cock',\n",
              " 8: 'hen',\n",
              " 9: 'ostrich, Struthio camelus',\n",
              " 10: 'brambling, Fringilla montifringilla',\n",
              " 11: 'goldfinch, Carduelis carduelis',\n",
              " 12: 'house finch, linnet, Carpodacus mexicanus',\n",
              " 13: 'junco, snowbird',\n",
              " 14: 'indigo bunting, indigo finch, indigo bird, Passerina cyanea',\n",
              " 15: 'robin, American robin, Turdus migratorius',\n",
              " 16: 'bulbul',\n",
              " 17: 'jay',\n",
              " 18: 'magpie',\n",
              " 19: 'chickadee',\n",
              " 20: 'water ouzel, dipper',\n",
              " 21: 'kite',\n",
              " 22: 'bald eagle, American eagle, Haliaeetus leucocephalus',\n",
              " 23: 'vulture',\n",
              " 24: 'great grey owl, great gray owl, Strix nebulosa',\n",
              " 25: 'European fire salamander, Salamandra salamandra',\n",
              " 26: 'common newt, Triturus vulgaris',\n",
              " 27: 'eft',\n",
              " 28: 'spotted salamander, Ambystoma maculatum',\n",
              " 29: 'axolotl, mud puppy, Ambystoma mexicanum',\n",
              " 30: 'bullfrog, Rana catesbeiana',\n",
              " 31: 'tree frog, tree-frog',\n",
              " 32: 'tailed frog, bell toad, ribbed toad, tailed toad, Ascaphus trui',\n",
              " 33: 'loggerhead, loggerhead turtle, Caretta caretta',\n",
              " 34: 'leatherback turtle, leatherback, leathery turtle, Dermochelys coriacea',\n",
              " 35: 'mud turtle',\n",
              " 36: 'terrapin',\n",
              " 37: 'box turtle, box tortoise',\n",
              " 38: 'banded gecko',\n",
              " 39: 'common iguana, iguana, Iguana iguana',\n",
              " 40: 'American chameleon, anole, Anolis carolinensis',\n",
              " 41: 'whiptail, whiptail lizard',\n",
              " 42: 'agama',\n",
              " 43: 'frilled lizard, Chlamydosaurus kingi',\n",
              " 44: 'alligator lizard',\n",
              " 45: 'Gila monster, Heloderma suspectum',\n",
              " 46: 'green lizard, Lacerta viridis',\n",
              " 47: 'African chameleon, Chamaeleo chamaeleon',\n",
              " 48: 'Komodo dragon, Komodo lizard, dragon lizard, giant lizard, Varanus komodoensis',\n",
              " 49: 'African crocodile, Nile crocodile, Crocodylus niloticus',\n",
              " 50: 'American alligator, Alligator mississipiensis',\n",
              " 51: 'triceratops',\n",
              " 52: 'thunder snake, worm snake, Carphophis amoenus',\n",
              " 53: 'ringneck snake, ring-necked snake, ring snake',\n",
              " 54: 'hognose snake, puff adder, sand viper',\n",
              " 55: 'green snake, grass snake',\n",
              " 56: 'king snake, kingsnake',\n",
              " 57: 'garter snake, grass snake',\n",
              " 58: 'water snake',\n",
              " 59: 'vine snake',\n",
              " 60: 'night snake, Hypsiglena torquata',\n",
              " 61: 'boa constrictor, Constrictor constrictor',\n",
              " 62: 'rock python, rock snake, Python sebae',\n",
              " 63: 'Indian cobra, Naja naja',\n",
              " 64: 'green mamba',\n",
              " 65: 'sea snake',\n",
              " 66: 'horned viper, cerastes, sand viper, horned asp, Cerastes cornutus',\n",
              " 67: 'diamondback, diamondback rattlesnake, Crotalus adamanteus',\n",
              " 68: 'sidewinder, horned rattlesnake, Crotalus cerastes',\n",
              " 69: 'trilobite',\n",
              " 70: 'harvestman, daddy longlegs, Phalangium opilio',\n",
              " 71: 'scorpion',\n",
              " 72: 'black and gold garden spider, Argiope aurantia',\n",
              " 73: 'barn spider, Araneus cavaticus',\n",
              " 74: 'garden spider, Aranea diademata',\n",
              " 75: 'black widow, Latrodectus mactans',\n",
              " 76: 'tarantula',\n",
              " 77: 'wolf spider, hunting spider',\n",
              " 78: 'tick',\n",
              " 79: 'centipede',\n",
              " 80: 'black grouse',\n",
              " 81: 'ptarmigan',\n",
              " 82: 'ruffed grouse, partridge, Bonasa umbellus',\n",
              " 83: 'prairie chicken, prairie grouse, prairie fowl',\n",
              " 84: 'peacock',\n",
              " 85: 'quail',\n",
              " 86: 'partridge',\n",
              " 87: 'African grey, African gray, Psittacus erithacus',\n",
              " 88: 'macaw',\n",
              " 89: 'sulphur-crested cockatoo, Kakatoe galerita, Cacatua galerita',\n",
              " 90: 'lorikeet',\n",
              " 91: 'coucal',\n",
              " 92: 'bee eater',\n",
              " 93: 'hornbill',\n",
              " 94: 'hummingbird',\n",
              " 95: 'jacamar',\n",
              " 96: 'toucan',\n",
              " 97: 'drake',\n",
              " 98: 'red-breasted merganser, Mergus serrator',\n",
              " 99: 'goose',\n",
              " 100: 'black swan, Cygnus atratus',\n",
              " 101: 'tusker',\n",
              " 102: 'echidna, spiny anteater, anteater',\n",
              " 103: 'platypus, duckbill, duckbilled platypus, duck-billed platypus, Ornithorhynchus anatinus',\n",
              " 104: 'wallaby, brush kangaroo',\n",
              " 105: 'koala, koala bear, kangaroo bear, native bear, Phascolarctos cinereus',\n",
              " 106: 'wombat',\n",
              " 107: 'jellyfish',\n",
              " 108: 'sea anemone, anemone',\n",
              " 109: 'brain coral',\n",
              " 110: 'flatworm, platyhelminth',\n",
              " 111: 'nematode, nematode worm, roundworm',\n",
              " 112: 'conch',\n",
              " 113: 'snail',\n",
              " 114: 'slug',\n",
              " 115: 'sea slug, nudibranch',\n",
              " 116: 'chiton, coat-of-mail shell, sea cradle, polyplacophore',\n",
              " 117: 'chambered nautilus, pearly nautilus, nautilus',\n",
              " 118: 'Dungeness crab, Cancer magister',\n",
              " 119: 'rock crab, Cancer irroratus',\n",
              " 120: 'fiddler crab',\n",
              " 121: 'king crab, Alaska crab, Alaskan king crab, Alaska king crab, Paralithodes camtschatica',\n",
              " 122: 'American lobster, Northern lobster, Maine lobster, Homarus americanus',\n",
              " 123: 'spiny lobster, langouste, rock lobster, crawfish, crayfish, sea crawfish',\n",
              " 124: 'crayfish, crawfish, crawdad, crawdaddy',\n",
              " 125: 'hermit crab',\n",
              " 126: 'isopod',\n",
              " 127: 'white stork, Ciconia ciconia',\n",
              " 128: 'black stork, Ciconia nigra',\n",
              " 129: 'spoonbill',\n",
              " 130: 'flamingo',\n",
              " 131: 'little blue heron, Egretta caerulea',\n",
              " 132: 'American egret, great white heron, Egretta albus',\n",
              " 133: 'bittern',\n",
              " 134: 'crane',\n",
              " 135: 'limpkin, Aramus pictus',\n",
              " 136: 'European gallinule, Porphyrio porphyrio',\n",
              " 137: 'American coot, marsh hen, mud hen, water hen, Fulica americana',\n",
              " 138: 'bustard',\n",
              " 139: 'ruddy turnstone, Arenaria interpres',\n",
              " 140: 'red-backed sandpiper, dunlin, Erolia alpina',\n",
              " 141: 'redshank, Tringa totanus',\n",
              " 142: 'dowitcher',\n",
              " 143: 'oystercatcher, oyster catcher',\n",
              " 144: 'pelican',\n",
              " 145: 'king penguin, Aptenodytes patagonica',\n",
              " 146: 'albatross, mollymawk',\n",
              " 147: 'grey whale, gray whale, devilfish, Eschrichtius gibbosus, Eschrichtius robustus',\n",
              " 148: 'killer whale, killer, orca, grampus, sea wolf, Orcinus orca',\n",
              " 149: 'dugong, Dugong dugon',\n",
              " 150: 'sea lion',\n",
              " 151: 'Chihuahua',\n",
              " 152: 'Japanese spaniel',\n",
              " 153: 'Maltese dog, Maltese terrier, Maltese',\n",
              " 154: 'Pekinese, Pekingese, Peke',\n",
              " 155: 'Shih-Tzu',\n",
              " 156: 'Blenheim spaniel',\n",
              " 157: 'papillon',\n",
              " 158: 'toy terrier',\n",
              " 159: 'Rhodesian ridgeback',\n",
              " 160: 'Afghan hound, Afghan',\n",
              " 161: 'basset, basset hound',\n",
              " 162: 'beagle',\n",
              " 163: 'bloodhound, sleuthhound',\n",
              " 164: 'bluetick',\n",
              " 165: 'black-and-tan coonhound',\n",
              " 166: 'Walker hound, Walker foxhound',\n",
              " 167: 'English foxhound',\n",
              " 168: 'redbone',\n",
              " 169: 'borzoi, Russian wolfhound',\n",
              " 170: 'Irish wolfhound',\n",
              " 171: 'Italian greyhound',\n",
              " 172: 'whippet',\n",
              " 173: 'Ibizan hound, Ibizan Podenco',\n",
              " 174: 'Norwegian elkhound, elkhound',\n",
              " 175: 'otterhound, otter hound',\n",
              " 176: 'Saluki, gazelle hound',\n",
              " 177: 'Scottish deerhound, deerhound',\n",
              " 178: 'Weimaraner',\n",
              " 179: 'Staffordshire bullterrier, Staffordshire bull terrier',\n",
              " 180: 'American Staffordshire terrier, Staffordshire terrier, American pit bull terrier, pit bull terrier',\n",
              " 181: 'Bedlington terrier',\n",
              " 182: 'Border terrier',\n",
              " 183: 'Kerry blue terrier',\n",
              " 184: 'Irish terrier',\n",
              " 185: 'Norfolk terrier',\n",
              " 186: 'Norwich terrier',\n",
              " 187: 'Yorkshire terrier',\n",
              " 188: 'wire-haired fox terrier',\n",
              " 189: 'Lakeland terrier',\n",
              " 190: 'Sealyham terrier, Sealyham',\n",
              " 191: 'Airedale, Airedale terrier',\n",
              " 192: 'cairn, cairn terrier',\n",
              " 193: 'Australian terrier',\n",
              " 194: 'Dandie Dinmont, Dandie Dinmont terrier',\n",
              " 195: 'Boston bull, Boston terrier',\n",
              " 196: 'miniature schnauzer',\n",
              " 197: 'giant schnauzer',\n",
              " 198: 'standard schnauzer',\n",
              " 199: 'Scotch terrier, Scottish terrier, Scottie',\n",
              " 200: 'Tibetan terrier, chrysanthemum dog',\n",
              " 201: 'silky terrier, Sydney silky',\n",
              " 202: 'soft-coated wheaten terrier',\n",
              " 203: 'West Highland white terrier',\n",
              " 204: 'Lhasa, Lhasa apso',\n",
              " 205: 'flat-coated retriever',\n",
              " 206: 'curly-coated retriever',\n",
              " 207: 'golden retriever',\n",
              " 208: 'Labrador retriever',\n",
              " 209: 'Chesapeake Bay retriever',\n",
              " 210: 'German short-haired pointer',\n",
              " 211: 'vizsla, Hungarian pointer',\n",
              " 212: 'English setter',\n",
              " 213: 'Irish setter, red setter',\n",
              " 214: 'Gordon setter',\n",
              " 215: 'Brittany spaniel',\n",
              " 216: 'clumber, clumber spaniel',\n",
              " 217: 'English springer, English springer spaniel',\n",
              " 218: 'Welsh springer spaniel',\n",
              " 219: 'cocker spaniel, English cocker spaniel, cocker',\n",
              " 220: 'Sussex spaniel',\n",
              " 221: 'Irish water spaniel',\n",
              " 222: 'kuvasz',\n",
              " 223: 'schipperke',\n",
              " 224: 'groenendael',\n",
              " 225: 'malinois',\n",
              " 226: 'briard',\n",
              " 227: 'kelpie',\n",
              " 228: 'komondor',\n",
              " 229: 'Old English sheepdog, bobtail',\n",
              " 230: 'Shetland sheepdog, Shetland sheep dog, Shetland',\n",
              " 231: 'collie',\n",
              " 232: 'Border collie',\n",
              " 233: 'Bouvier des Flandres, Bouviers des Flandres',\n",
              " 234: 'Rottweiler',\n",
              " 235: 'German shepherd, German shepherd dog, German police dog, alsatian',\n",
              " 236: 'Doberman, Doberman pinscher',\n",
              " 237: 'miniature pinscher',\n",
              " 238: 'Greater Swiss Mountain dog',\n",
              " 239: 'Bernese mountain dog',\n",
              " 240: 'Appenzeller',\n",
              " 241: 'EntleBucher',\n",
              " 242: 'boxer',\n",
              " 243: 'bull mastiff',\n",
              " 244: 'Tibetan mastiff',\n",
              " 245: 'French bulldog',\n",
              " 246: 'Great Dane',\n",
              " 247: 'Saint Bernard, St Bernard',\n",
              " 248: 'Eskimo dog, husky',\n",
              " 249: 'malamute, malemute, Alaskan malamute',\n",
              " 250: 'Siberian husky',\n",
              " 251: 'dalmatian, coach dog, carriage dog',\n",
              " 252: 'affenpinscher, monkey pinscher, monkey dog',\n",
              " 253: 'basenji',\n",
              " 254: 'pug, pug-dog',\n",
              " 255: 'Leonberg',\n",
              " 256: 'Newfoundland, Newfoundland dog',\n",
              " 257: 'Great Pyrenees',\n",
              " 258: 'Samoyed, Samoyede',\n",
              " 259: 'Pomeranian',\n",
              " 260: 'chow, chow chow',\n",
              " 261: 'keeshond',\n",
              " 262: 'Brabancon griffon',\n",
              " 263: 'Pembroke, Pembroke Welsh corgi',\n",
              " 264: 'Cardigan, Cardigan Welsh corgi',\n",
              " 265: 'toy poodle',\n",
              " 266: 'miniature poodle',\n",
              " 267: 'standard poodle',\n",
              " 268: 'Mexican hairless',\n",
              " 269: 'timber wolf, grey wolf, gray wolf, Canis lupus',\n",
              " 270: 'white wolf, Arctic wolf, Canis lupus tundrarum',\n",
              " 271: 'red wolf, maned wolf, Canis rufus, Canis niger',\n",
              " 272: 'coyote, prairie wolf, brush wolf, Canis latrans',\n",
              " 273: 'dingo, warrigal, warragal, Canis dingo',\n",
              " 274: 'dhole, Cuon alpinus',\n",
              " 275: 'African hunting dog, hyena dog, Cape hunting dog, Lycaon pictus',\n",
              " 276: 'hyena, hyaena',\n",
              " 277: 'red fox, Vulpes vulpes',\n",
              " 278: 'kit fox, Vulpes macrotis',\n",
              " 279: 'Arctic fox, white fox, Alopex lagopus',\n",
              " 280: 'grey fox, gray fox, Urocyon cinereoargenteus',\n",
              " 281: 'tabby, tabby cat',\n",
              " 282: 'tiger cat',\n",
              " 283: 'Persian cat',\n",
              " 284: 'Siamese cat, Siamese',\n",
              " 285: 'Egyptian cat',\n",
              " 286: 'cougar, puma, catamount, mountain lion, painter, panther, Felis concolor',\n",
              " 287: 'lynx, catamount',\n",
              " 288: 'leopard, Panthera pardus',\n",
              " 289: 'snow leopard, ounce, Panthera uncia',\n",
              " 290: 'jaguar, panther, Panthera onca, Felis onca',\n",
              " 291: 'lion, king of beasts, Panthera leo',\n",
              " 292: 'tiger, Panthera tigris',\n",
              " 293: 'cheetah, chetah, Acinonyx jubatus',\n",
              " 294: 'brown bear, bruin, Ursus arctos',\n",
              " 295: 'American black bear, black bear, Ursus americanus, Euarctos americanus',\n",
              " 296: 'ice bear, polar bear, Ursus Maritimus, Thalarctos maritimus',\n",
              " 297: 'sloth bear, Melursus ursinus, Ursus ursinus',\n",
              " 298: 'mongoose',\n",
              " 299: 'meerkat, mierkat',\n",
              " 300: 'tiger beetle',\n",
              " 301: 'ladybug, ladybeetle, lady beetle, ladybird, ladybird beetle',\n",
              " 302: 'ground beetle, carabid beetle',\n",
              " 303: 'long-horned beetle, longicorn, longicorn beetle',\n",
              " 304: 'leaf beetle, chrysomelid',\n",
              " 305: 'dung beetle',\n",
              " 306: 'rhinoceros beetle',\n",
              " 307: 'weevil',\n",
              " 308: 'fly',\n",
              " 309: 'bee',\n",
              " 310: 'ant, emmet, pismire',\n",
              " 311: 'grasshopper, hopper',\n",
              " 312: 'cricket',\n",
              " 313: 'walking stick, walkingstick, stick insect',\n",
              " 314: 'cockroach, roach',\n",
              " 315: 'mantis, mantid',\n",
              " 316: 'cicada, cicala',\n",
              " 317: 'leafhopper',\n",
              " 318: 'lacewing, lacewing fly',\n",
              " 319: \"dragonfly, darning needle, devil's darning needle, sewing needle, snake feeder, snake doctor, mosquito hawk, skeeter hawk\",\n",
              " 320: 'damselfly',\n",
              " 321: 'admiral',\n",
              " 322: 'ringlet, ringlet butterfly',\n",
              " 323: 'monarch, monarch butterfly, milkweed butterfly, Danaus plexippus',\n",
              " 324: 'cabbage butterfly',\n",
              " 325: 'sulphur butterfly, sulfur butterfly',\n",
              " 326: 'lycaenid, lycaenid butterfly',\n",
              " 327: 'starfish, sea star',\n",
              " 328: 'sea urchin',\n",
              " 329: 'sea cucumber, holothurian',\n",
              " 330: 'wood rabbit, cottontail, cottontail rabbit',\n",
              " 331: 'hare',\n",
              " 332: 'Angora, Angora rabbit',\n",
              " 333: 'hamster',\n",
              " 334: 'porcupine, hedgehog',\n",
              " 335: 'fox squirrel, eastern fox squirrel, Sciurus niger',\n",
              " 336: 'marmot',\n",
              " 337: 'beaver',\n",
              " 338: 'guinea pig, Cavia cobaya',\n",
              " 339: 'sorrel',\n",
              " 340: 'zebra',\n",
              " 341: 'hog, pig, grunter, squealer, Sus scrofa',\n",
              " 342: 'wild boar, boar, Sus scrofa',\n",
              " 343: 'warthog',\n",
              " 344: 'hippopotamus, hippo, river horse, Hippopotamus amphibius',\n",
              " 345: 'ox',\n",
              " 346: 'water buffalo, water ox, Asiatic buffalo, Bubalus bubalis',\n",
              " 347: 'bison',\n",
              " 348: 'ram, tup',\n",
              " 349: 'bighorn, bighorn sheep, cimarron, Rocky Mountain bighorn, Rocky Mountain sheep, Ovis canadensis',\n",
              " 350: 'ibex, Capra ibex',\n",
              " 351: 'hartebeest',\n",
              " 352: 'impala, Aepyceros melampus',\n",
              " 353: 'gazelle',\n",
              " 354: 'Arabian camel, dromedary, Camelus dromedarius',\n",
              " 355: 'llama',\n",
              " 356: 'weasel',\n",
              " 357: 'mink',\n",
              " 358: 'polecat, fitch, foulmart, foumart, Mustela putorius',\n",
              " 359: 'black-footed ferret, ferret, Mustela nigripes',\n",
              " 360: 'otter',\n",
              " 361: 'skunk, polecat, wood pussy',\n",
              " 362: 'badger',\n",
              " 363: 'armadillo',\n",
              " 364: 'three-toed sloth, ai, Bradypus tridactylus',\n",
              " 365: 'orangutan, orang, orangutang, Pongo pygmaeus',\n",
              " 366: 'gorilla, Gorilla gorilla',\n",
              " 367: 'chimpanzee, chimp, Pan troglodytes',\n",
              " 368: 'gibbon, Hylobates lar',\n",
              " 369: 'siamang, Hylobates syndactylus, Symphalangus syndactylus',\n",
              " 370: 'guenon, guenon monkey',\n",
              " 371: 'patas, hussar monkey, Erythrocebus patas',\n",
              " 372: 'baboon',\n",
              " 373: 'macaque',\n",
              " 374: 'langur',\n",
              " 375: 'colobus, colobus monkey',\n",
              " 376: 'proboscis monkey, Nasalis larvatus',\n",
              " 377: 'marmoset',\n",
              " 378: 'capuchin, ringtail, Cebus capucinus',\n",
              " 379: 'howler monkey, howler',\n",
              " 380: 'titi, titi monkey',\n",
              " 381: 'spider monkey, Ateles geoffroyi',\n",
              " 382: 'squirrel monkey, Saimiri sciureus',\n",
              " 383: 'Madagascar cat, ring-tailed lemur, Lemur catta',\n",
              " 384: 'indri, indris, Indri indri, Indri brevicaudatus',\n",
              " 385: 'Indian elephant, Elephas maximus',\n",
              " 386: 'African elephant, Loxodonta africana',\n",
              " 387: 'lesser panda, red panda, panda, bear cat, cat bear, Ailurus fulgens',\n",
              " 388: 'giant panda, panda, panda bear, coon bear, Ailuropoda melanoleuca',\n",
              " 389: 'barracouta, snoek',\n",
              " 390: 'eel',\n",
              " 391: 'coho, cohoe, coho salmon, blue jack, silver salmon, Oncorhynchus kisutch',\n",
              " 392: 'rock beauty, Holocanthus tricolor',\n",
              " 393: 'anemone fish',\n",
              " 394: 'sturgeon',\n",
              " 395: 'gar, garfish, garpike, billfish, Lepisosteus osseus',\n",
              " 396: 'lionfish',\n",
              " 397: 'puffer, pufferfish, blowfish, globefish',\n",
              " 398: 'abacus',\n",
              " 399: 'abaya',\n",
              " 400: \"academic gown, academic robe, judge's robe\",\n",
              " 401: 'accordion, piano accordion, squeeze box',\n",
              " 402: 'acoustic guitar',\n",
              " 403: 'aircraft carrier, carrier, flattop, attack aircraft carrier',\n",
              " 404: 'airliner',\n",
              " 405: 'airship, dirigible',\n",
              " 406: 'altar',\n",
              " 407: 'ambulance',\n",
              " 408: 'amphibian, amphibious vehicle',\n",
              " 409: 'analog clock',\n",
              " 410: 'apiary, bee house',\n",
              " 411: 'apron',\n",
              " 412: 'ashcan, trash can, garbage can, wastebin, ash bin, ash-bin, ashbin, dustbin, trash barrel, trash bin',\n",
              " 413: 'assault rifle, assault gun',\n",
              " 414: 'backpack, back pack, knapsack, packsack, rucksack, haversack',\n",
              " 415: 'bakery, bakeshop, bakehouse',\n",
              " 416: 'balance beam, beam',\n",
              " 417: 'balloon',\n",
              " 418: 'ballpoint, ballpoint pen, ballpen, Biro',\n",
              " 419: 'Band Aid',\n",
              " 420: 'banjo',\n",
              " 421: 'bannister, banister, balustrade, balusters, handrail',\n",
              " 422: 'barbell',\n",
              " 423: 'barber chair',\n",
              " 424: 'barbershop',\n",
              " 425: 'barn',\n",
              " 426: 'barometer',\n",
              " 427: 'barrel, cask',\n",
              " 428: 'barrow, garden cart, lawn cart, wheelbarrow',\n",
              " 429: 'baseball',\n",
              " 430: 'basketball',\n",
              " 431: 'bassinet',\n",
              " 432: 'bassoon',\n",
              " 433: 'bathing cap, swimming cap',\n",
              " 434: 'bath towel',\n",
              " 435: 'bathtub, bathing tub, bath, tub',\n",
              " 436: 'beach wagon, station wagon, wagon, estate car, beach waggon, station waggon, waggon',\n",
              " 437: 'beacon, lighthouse, beacon light, pharos',\n",
              " 438: 'beaker',\n",
              " 439: 'bearskin, busby, shako',\n",
              " 440: 'beer bottle',\n",
              " 441: 'beer glass',\n",
              " 442: 'bell cote, bell cot',\n",
              " 443: 'bib',\n",
              " 444: 'bicycle-built-for-two, tandem bicycle, tandem',\n",
              " 445: 'bikini, two-piece',\n",
              " 446: 'binder, ring-binder',\n",
              " 447: 'binoculars, field glasses, opera glasses',\n",
              " 448: 'birdhouse',\n",
              " 449: 'boathouse',\n",
              " 450: 'bobsled, bobsleigh, bob',\n",
              " 451: 'bolo tie, bolo, bola tie, bola',\n",
              " 452: 'bonnet, poke bonnet',\n",
              " 453: 'bookcase',\n",
              " 454: 'bookshop, bookstore, bookstall',\n",
              " 455: 'bottlecap',\n",
              " 456: 'bow',\n",
              " 457: 'bow tie, bow-tie, bowtie',\n",
              " 458: 'brass, memorial tablet, plaque',\n",
              " 459: 'brassiere, bra, bandeau',\n",
              " 460: 'breakwater, groin, groyne, mole, bulwark, seawall, jetty',\n",
              " 461: 'breastplate, aegis, egis',\n",
              " 462: 'broom',\n",
              " 463: 'bucket, pail',\n",
              " 464: 'buckle',\n",
              " 465: 'bulletproof vest',\n",
              " 466: 'bullet train, bullet',\n",
              " 467: 'butcher shop, meat market',\n",
              " 468: 'cab, hack, taxi, taxicab',\n",
              " 469: 'caldron, cauldron',\n",
              " 470: 'candle, taper, wax light',\n",
              " 471: 'cannon',\n",
              " 472: 'canoe',\n",
              " 473: 'can opener, tin opener',\n",
              " 474: 'cardigan',\n",
              " 475: 'car mirror',\n",
              " 476: 'carousel, carrousel, merry-go-round, roundabout, whirligig',\n",
              " 477: \"carpenter's kit, tool kit\",\n",
              " 478: 'carton',\n",
              " 479: 'car wheel',\n",
              " 480: 'cash machine, cash dispenser, automated teller machine, automatic teller machine, automated teller, automatic teller, ATM',\n",
              " 481: 'cassette',\n",
              " 482: 'cassette player',\n",
              " 483: 'castle',\n",
              " 484: 'catamaran',\n",
              " 485: 'CD player',\n",
              " 486: 'cello, violoncello',\n",
              " 487: 'cellular telephone, cellular phone, cellphone, cell, mobile phone',\n",
              " 488: 'chain',\n",
              " 489: 'chainlink fence',\n",
              " 490: 'chain mail, ring mail, mail, chain armor, chain armour, ring armor, ring armour',\n",
              " 491: 'chain saw, chainsaw',\n",
              " 492: 'chest',\n",
              " 493: 'chiffonier, commode',\n",
              " 494: 'chime, bell, gong',\n",
              " 495: 'china cabinet, china closet',\n",
              " 496: 'Christmas stocking',\n",
              " 497: 'church, church building',\n",
              " 498: 'cinema, movie theater, movie theatre, movie house, picture palace',\n",
              " 499: 'cleaver, meat cleaver, chopper',\n",
              " 500: 'cliff dwelling',\n",
              " 501: 'cloak',\n",
              " 502: 'clog, geta, patten, sabot',\n",
              " 503: 'cocktail shaker',\n",
              " 504: 'coffee mug',\n",
              " 505: 'coffeepot',\n",
              " 506: 'coil, spiral, volute, whorl, helix',\n",
              " 507: 'combination lock',\n",
              " 508: 'computer keyboard, keypad',\n",
              " 509: 'confectionery, confectionary, candy store',\n",
              " 510: 'container ship, containership, container vessel',\n",
              " 511: 'convertible',\n",
              " 512: 'corkscrew, bottle screw',\n",
              " 513: 'cornet, horn, trumpet, trump',\n",
              " 514: 'cowboy boot',\n",
              " 515: 'cowboy hat, ten-gallon hat',\n",
              " 516: 'cradle',\n",
              " 517: 'crane',\n",
              " 518: 'crash helmet',\n",
              " 519: 'crate',\n",
              " 520: 'crib, cot',\n",
              " 521: 'Crock Pot',\n",
              " 522: 'croquet ball',\n",
              " 523: 'crutch',\n",
              " 524: 'cuirass',\n",
              " 525: 'dam, dike, dyke',\n",
              " 526: 'desk',\n",
              " 527: 'desktop computer',\n",
              " 528: 'dial telephone, dial phone',\n",
              " 529: 'diaper, nappy, napkin',\n",
              " 530: 'digital clock',\n",
              " 531: 'digital watch',\n",
              " 532: 'dining table, board',\n",
              " 533: 'dishrag, dishcloth',\n",
              " 534: 'dishwasher, dish washer, dishwashing machine',\n",
              " 535: 'disk brake, disc brake',\n",
              " 536: 'dock, dockage, docking facility',\n",
              " 537: 'dogsled, dog sled, dog sleigh',\n",
              " 538: 'dome',\n",
              " 539: 'doormat, welcome mat',\n",
              " 540: 'drilling platform, offshore rig',\n",
              " 541: 'drum, membranophone, tympan',\n",
              " 542: 'drumstick',\n",
              " 543: 'dumbbell',\n",
              " 544: 'Dutch oven',\n",
              " 545: 'electric fan, blower',\n",
              " 546: 'electric guitar',\n",
              " 547: 'electric locomotive',\n",
              " 548: 'entertainment center',\n",
              " 549: 'envelope',\n",
              " 550: 'espresso maker',\n",
              " 551: 'face powder',\n",
              " 552: 'feather boa, boa',\n",
              " 553: 'file, file cabinet, filing cabinet',\n",
              " 554: 'fireboat',\n",
              " 555: 'fire engine, fire truck',\n",
              " 556: 'fire screen, fireguard',\n",
              " 557: 'flagpole, flagstaff',\n",
              " 558: 'flute, transverse flute',\n",
              " 559: 'folding chair',\n",
              " 560: 'football helmet',\n",
              " 561: 'forklift',\n",
              " 562: 'fountain',\n",
              " 563: 'fountain pen',\n",
              " 564: 'four-poster',\n",
              " 565: 'freight car',\n",
              " 566: 'French horn, horn',\n",
              " 567: 'frying pan, frypan, skillet',\n",
              " 568: 'fur coat',\n",
              " 569: 'garbage truck, dustcart',\n",
              " 570: 'gasmask, respirator, gas helmet',\n",
              " 571: 'gas pump, gasoline pump, petrol pump, island dispenser',\n",
              " 572: 'goblet',\n",
              " 573: 'go-kart',\n",
              " 574: 'golf ball',\n",
              " 575: 'golfcart, golf cart',\n",
              " 576: 'gondola',\n",
              " 577: 'gong, tam-tam',\n",
              " 578: 'gown',\n",
              " 579: 'grand piano, grand',\n",
              " 580: 'greenhouse, nursery, glasshouse',\n",
              " 581: 'grille, radiator grille',\n",
              " 582: 'grocery store, grocery, food market, market',\n",
              " 583: 'guillotine',\n",
              " 584: 'hair slide',\n",
              " 585: 'hair spray',\n",
              " 586: 'half track',\n",
              " 587: 'hammer',\n",
              " 588: 'hamper',\n",
              " 589: 'hand blower, blow dryer, blow drier, hair dryer, hair drier',\n",
              " 590: 'hand-held computer, hand-held microcomputer',\n",
              " 591: 'handkerchief, hankie, hanky, hankey',\n",
              " 592: 'hard disc, hard disk, fixed disk',\n",
              " 593: 'harmonica, mouth organ, harp, mouth harp',\n",
              " 594: 'harp',\n",
              " 595: 'harvester, reaper',\n",
              " 596: 'hatchet',\n",
              " 597: 'holster',\n",
              " 598: 'home theater, home theatre',\n",
              " 599: 'honeycomb',\n",
              " 600: 'hook, claw',\n",
              " 601: 'hoopskirt, crinoline',\n",
              " 602: 'horizontal bar, high bar',\n",
              " 603: 'horse cart, horse-cart',\n",
              " 604: 'hourglass',\n",
              " 605: 'iPod',\n",
              " 606: 'iron, smoothing iron',\n",
              " 607: \"jack-o'-lantern\",\n",
              " 608: 'jean, blue jean, denim',\n",
              " 609: 'jeep, landrover',\n",
              " 610: 'jersey, T-shirt, tee shirt',\n",
              " 611: 'jigsaw puzzle',\n",
              " 612: 'jinrikisha, ricksha, rickshaw',\n",
              " 613: 'joystick',\n",
              " 614: 'kimono',\n",
              " 615: 'knee pad',\n",
              " 616: 'knot',\n",
              " 617: 'lab coat, laboratory coat',\n",
              " 618: 'ladle',\n",
              " 619: 'lampshade, lamp shade',\n",
              " 620: 'laptop, laptop computer',\n",
              " 621: 'lawn mower, mower',\n",
              " 622: 'lens cap, lens cover',\n",
              " 623: 'letter opener, paper knife, paperknife',\n",
              " 624: 'library',\n",
              " 625: 'lifeboat',\n",
              " 626: 'lighter, light, igniter, ignitor',\n",
              " 627: 'limousine, limo',\n",
              " 628: 'liner, ocean liner',\n",
              " 629: 'lipstick, lip rouge',\n",
              " 630: 'Loafer',\n",
              " 631: 'lotion',\n",
              " 632: 'loudspeaker, speaker, speaker unit, loudspeaker system, speaker system',\n",
              " 633: \"loupe, jeweler's loupe\",\n",
              " 634: 'lumbermill, sawmill',\n",
              " 635: 'magnetic compass',\n",
              " 636: 'mailbag, postbag',\n",
              " 637: 'mailbox, letter box',\n",
              " 638: 'maillot',\n",
              " 639: 'maillot, tank suit',\n",
              " 640: 'manhole cover',\n",
              " 641: 'maraca',\n",
              " 642: 'marimba, xylophone',\n",
              " 643: 'mask',\n",
              " 644: 'matchstick',\n",
              " 645: 'maypole',\n",
              " 646: 'maze, labyrinth',\n",
              " 647: 'measuring cup',\n",
              " 648: 'medicine chest, medicine cabinet',\n",
              " 649: 'megalith, megalithic structure',\n",
              " 650: 'microphone, mike',\n",
              " 651: 'microwave, microwave oven',\n",
              " 652: 'military uniform',\n",
              " 653: 'milk can',\n",
              " 654: 'minibus',\n",
              " 655: 'miniskirt, mini',\n",
              " 656: 'minivan',\n",
              " 657: 'missile',\n",
              " 658: 'mitten',\n",
              " 659: 'mixing bowl',\n",
              " 660: 'mobile home, manufactured home',\n",
              " 661: 'Model T',\n",
              " 662: 'modem',\n",
              " 663: 'monastery',\n",
              " 664: 'monitor',\n",
              " 665: 'moped',\n",
              " 666: 'mortar',\n",
              " 667: 'mortarboard',\n",
              " 668: 'mosque',\n",
              " 669: 'mosquito net',\n",
              " 670: 'motor scooter, scooter',\n",
              " 671: 'mountain bike, all-terrain bike, off-roader',\n",
              " 672: 'mountain tent',\n",
              " 673: 'mouse, computer mouse',\n",
              " 674: 'mousetrap',\n",
              " 675: 'moving van',\n",
              " 676: 'muzzle',\n",
              " 677: 'nail',\n",
              " 678: 'neck brace',\n",
              " 679: 'necklace',\n",
              " 680: 'nipple',\n",
              " 681: 'notebook, notebook computer',\n",
              " 682: 'obelisk',\n",
              " 683: 'oboe, hautboy, hautbois',\n",
              " 684: 'ocarina, sweet potato',\n",
              " 685: 'odometer, hodometer, mileometer, milometer',\n",
              " 686: 'oil filter',\n",
              " 687: 'organ, pipe organ',\n",
              " 688: 'oscilloscope, scope, cathode-ray oscilloscope, CRO',\n",
              " 689: 'overskirt',\n",
              " 690: 'oxcart',\n",
              " 691: 'oxygen mask',\n",
              " 692: 'packet',\n",
              " 693: 'paddle, boat paddle',\n",
              " 694: 'paddlewheel, paddle wheel',\n",
              " 695: 'padlock',\n",
              " 696: 'paintbrush',\n",
              " 697: \"pajama, pyjama, pj's, jammies\",\n",
              " 698: 'palace',\n",
              " 699: 'panpipe, pandean pipe, syrinx',\n",
              " 700: 'paper towel',\n",
              " 701: 'parachute, chute',\n",
              " 702: 'parallel bars, bars',\n",
              " 703: 'park bench',\n",
              " 704: 'parking meter',\n",
              " 705: 'passenger car, coach, carriage',\n",
              " 706: 'patio, terrace',\n",
              " 707: 'pay-phone, pay-station',\n",
              " 708: 'pedestal, plinth, footstall',\n",
              " 709: 'pencil box, pencil case',\n",
              " 710: 'pencil sharpener',\n",
              " 711: 'perfume, essence',\n",
              " 712: 'Petri dish',\n",
              " 713: 'photocopier',\n",
              " 714: 'pick, plectrum, plectron',\n",
              " 715: 'pickelhaube',\n",
              " 716: 'picket fence, paling',\n",
              " 717: 'pickup, pickup truck',\n",
              " 718: 'pier',\n",
              " 719: 'piggy bank, penny bank',\n",
              " 720: 'pill bottle',\n",
              " 721: 'pillow',\n",
              " 722: 'ping-pong ball',\n",
              " 723: 'pinwheel',\n",
              " 724: 'pirate, pirate ship',\n",
              " 725: 'pitcher, ewer',\n",
              " 726: \"plane, carpenter's plane, woodworking plane\",\n",
              " 727: 'planetarium',\n",
              " 728: 'plastic bag',\n",
              " 729: 'plate rack',\n",
              " 730: 'plow, plough',\n",
              " 731: \"plunger, plumber's helper\",\n",
              " 732: 'Polaroid camera, Polaroid Land camera',\n",
              " 733: 'pole',\n",
              " 734: 'police van, police wagon, paddy wagon, patrol wagon, wagon, black Maria',\n",
              " 735: 'poncho',\n",
              " 736: 'pool table, billiard table, snooker table',\n",
              " 737: 'pop bottle, soda bottle',\n",
              " 738: 'pot, flowerpot',\n",
              " 739: \"potter's wheel\",\n",
              " 740: 'power drill',\n",
              " 741: 'prayer rug, prayer mat',\n",
              " 742: 'printer',\n",
              " 743: 'prison, prison house',\n",
              " 744: 'projectile, missile',\n",
              " 745: 'projector',\n",
              " 746: 'puck, hockey puck',\n",
              " 747: 'punching bag, punch bag, punching ball, punchball',\n",
              " 748: 'purse',\n",
              " 749: 'quill, quill pen',\n",
              " 750: 'quilt, comforter, comfort, puff',\n",
              " 751: 'racer, race car, racing car',\n",
              " 752: 'racket, racquet',\n",
              " 753: 'radiator',\n",
              " 754: 'radio, wireless',\n",
              " 755: 'radio telescope, radio reflector',\n",
              " 756: 'rain barrel',\n",
              " 757: 'recreational vehicle, RV, R.V.',\n",
              " 758: 'reel',\n",
              " 759: 'reflex camera',\n",
              " 760: 'refrigerator, icebox',\n",
              " 761: 'remote control, remote',\n",
              " 762: 'restaurant, eating house, eating place, eatery',\n",
              " 763: 'revolver, six-gun, six-shooter',\n",
              " 764: 'rifle',\n",
              " 765: 'rocking chair, rocker',\n",
              " 766: 'rotisserie',\n",
              " 767: 'rubber eraser, rubber, pencil eraser',\n",
              " 768: 'rugby ball',\n",
              " 769: 'rule, ruler',\n",
              " 770: 'running shoe',\n",
              " 771: 'safe',\n",
              " 772: 'safety pin',\n",
              " 773: 'saltshaker, salt shaker',\n",
              " 774: 'sandal',\n",
              " 775: 'sarong',\n",
              " 776: 'sax, saxophone',\n",
              " 777: 'scabbard',\n",
              " 778: 'scale, weighing machine',\n",
              " 779: 'school bus',\n",
              " 780: 'schooner',\n",
              " 781: 'scoreboard',\n",
              " 782: 'screen, CRT screen',\n",
              " 783: 'screw',\n",
              " 784: 'screwdriver',\n",
              " 785: 'seat belt, seatbelt',\n",
              " 786: 'sewing machine',\n",
              " 787: 'shield, buckler',\n",
              " 788: 'shoe shop, shoe-shop, shoe store',\n",
              " 789: 'shoji',\n",
              " 790: 'shopping basket',\n",
              " 791: 'shopping cart',\n",
              " 792: 'shovel',\n",
              " 793: 'shower cap',\n",
              " 794: 'shower curtain',\n",
              " 795: 'ski',\n",
              " 796: 'ski mask',\n",
              " 797: 'sleeping bag',\n",
              " 798: 'slide rule, slipstick',\n",
              " 799: 'sliding door',\n",
              " 800: 'slot, one-armed bandit',\n",
              " 801: 'snorkel',\n",
              " 802: 'snowmobile',\n",
              " 803: 'snowplow, snowplough',\n",
              " 804: 'soap dispenser',\n",
              " 805: 'soccer ball',\n",
              " 806: 'sock',\n",
              " 807: 'solar dish, solar collector, solar furnace',\n",
              " 808: 'sombrero',\n",
              " 809: 'soup bowl',\n",
              " 810: 'space bar',\n",
              " 811: 'space heater',\n",
              " 812: 'space shuttle',\n",
              " 813: 'spatula',\n",
              " 814: 'speedboat',\n",
              " 815: \"spider web, spider's web\",\n",
              " 816: 'spindle',\n",
              " 817: 'sports car, sport car',\n",
              " 818: 'spotlight, spot',\n",
              " 819: 'stage',\n",
              " 820: 'steam locomotive',\n",
              " 821: 'steel arch bridge',\n",
              " 822: 'steel drum',\n",
              " 823: 'stethoscope',\n",
              " 824: 'stole',\n",
              " 825: 'stone wall',\n",
              " 826: 'stopwatch, stop watch',\n",
              " 827: 'stove',\n",
              " 828: 'strainer',\n",
              " 829: 'streetcar, tram, tramcar, trolley, trolley car',\n",
              " 830: 'stretcher',\n",
              " 831: 'studio couch, day bed',\n",
              " 832: 'stupa, tope',\n",
              " 833: 'submarine, pigboat, sub, U-boat',\n",
              " 834: 'suit, suit of clothes',\n",
              " 835: 'sundial',\n",
              " 836: 'sunglass',\n",
              " 837: 'sunglasses, dark glasses, shades',\n",
              " 838: 'sunscreen, sunblock, sun blocker',\n",
              " 839: 'suspension bridge',\n",
              " 840: 'swab, swob, mop',\n",
              " 841: 'sweatshirt',\n",
              " 842: 'swimming trunks, bathing trunks',\n",
              " 843: 'swing',\n",
              " 844: 'switch, electric switch, electrical switch',\n",
              " 845: 'syringe',\n",
              " 846: 'table lamp',\n",
              " 847: 'tank, army tank, armored combat vehicle, armoured combat vehicle',\n",
              " 848: 'tape player',\n",
              " 849: 'teapot',\n",
              " 850: 'teddy, teddy bear',\n",
              " 851: 'television, television system',\n",
              " 852: 'tennis ball',\n",
              " 853: 'thatch, thatched roof',\n",
              " 854: 'theater curtain, theatre curtain',\n",
              " 855: 'thimble',\n",
              " 856: 'thresher, thrasher, threshing machine',\n",
              " 857: 'throne',\n",
              " 858: 'tile roof',\n",
              " 859: 'toaster',\n",
              " 860: 'tobacco shop, tobacconist shop, tobacconist',\n",
              " 861: 'toilet seat',\n",
              " 862: 'torch',\n",
              " 863: 'totem pole',\n",
              " 864: 'tow truck, tow car, wrecker',\n",
              " 865: 'toyshop',\n",
              " 866: 'tractor',\n",
              " 867: 'trailer truck, tractor trailer, trucking rig, rig, articulated lorry, semi',\n",
              " 868: 'tray',\n",
              " 869: 'trench coat',\n",
              " 870: 'tricycle, trike, velocipede',\n",
              " 871: 'trimaran',\n",
              " 872: 'tripod',\n",
              " 873: 'triumphal arch',\n",
              " 874: 'trolleybus, trolley coach, trackless trolley',\n",
              " 875: 'trombone',\n",
              " 876: 'tub, vat',\n",
              " 877: 'turnstile',\n",
              " 878: 'typewriter keyboard',\n",
              " 879: 'umbrella',\n",
              " 880: 'unicycle, monocycle',\n",
              " 881: 'upright, upright piano',\n",
              " 882: 'vacuum, vacuum cleaner',\n",
              " 883: 'vase',\n",
              " 884: 'vault',\n",
              " 885: 'velvet',\n",
              " 886: 'vending machine',\n",
              " 887: 'vestment',\n",
              " 888: 'viaduct',\n",
              " 889: 'violin, fiddle',\n",
              " 890: 'volleyball',\n",
              " 891: 'waffle iron',\n",
              " 892: 'wall clock',\n",
              " 893: 'wallet, billfold, notecase, pocketbook',\n",
              " 894: 'wardrobe, closet, press',\n",
              " 895: 'warplane, military plane',\n",
              " 896: 'washbasin, handbasin, washbowl, lavabo, wash-hand basin',\n",
              " 897: 'washer, automatic washer, washing machine',\n",
              " 898: 'water bottle',\n",
              " 899: 'water jug',\n",
              " 900: 'water tower',\n",
              " 901: 'whiskey jug',\n",
              " 902: 'whistle',\n",
              " 903: 'wig',\n",
              " 904: 'window screen',\n",
              " 905: 'window shade',\n",
              " 906: 'Windsor tie',\n",
              " 907: 'wine bottle',\n",
              " 908: 'wing',\n",
              " 909: 'wok',\n",
              " 910: 'wooden spoon',\n",
              " 911: 'wool, woolen, woollen',\n",
              " 912: 'worm fence, snake fence, snake-rail fence, Virginia fence',\n",
              " 913: 'wreck',\n",
              " 914: 'yawl',\n",
              " 915: 'yurt',\n",
              " 916: 'web site, website, internet site, site',\n",
              " 917: 'comic book',\n",
              " 918: 'crossword puzzle, crossword',\n",
              " 919: 'street sign',\n",
              " 920: 'traffic light, traffic signal, stoplight',\n",
              " 921: 'book jacket, dust cover, dust jacket, dust wrapper',\n",
              " 922: 'menu',\n",
              " 923: 'plate',\n",
              " 924: 'guacamole',\n",
              " 925: 'consomme',\n",
              " 926: 'hot pot, hotpot',\n",
              " 927: 'trifle',\n",
              " 928: 'ice cream, icecream',\n",
              " 929: 'ice lolly, lolly, lollipop, popsicle',\n",
              " 930: 'French loaf',\n",
              " 931: 'bagel, beigel',\n",
              " 932: 'pretzel',\n",
              " 933: 'cheeseburger',\n",
              " 934: 'hotdog, hot dog, red hot',\n",
              " 935: 'mashed potato',\n",
              " 936: 'head cabbage',\n",
              " 937: 'broccoli',\n",
              " 938: 'cauliflower',\n",
              " 939: 'zucchini, courgette',\n",
              " 940: 'spaghetti squash',\n",
              " 941: 'acorn squash',\n",
              " 942: 'butternut squash',\n",
              " 943: 'cucumber, cuke',\n",
              " 944: 'artichoke, globe artichoke',\n",
              " 945: 'bell pepper',\n",
              " 946: 'cardoon',\n",
              " 947: 'mushroom',\n",
              " 948: 'Granny Smith',\n",
              " 949: 'strawberry',\n",
              " 950: 'orange',\n",
              " 951: 'lemon',\n",
              " 952: 'fig',\n",
              " 953: 'pineapple, ananas',\n",
              " 954: 'banana',\n",
              " 955: 'jackfruit, jak, jack',\n",
              " 956: 'custard apple',\n",
              " 957: 'pomegranate',\n",
              " 958: 'hay',\n",
              " 959: 'carbonara',\n",
              " 960: 'chocolate sauce, chocolate syrup',\n",
              " 961: 'dough',\n",
              " 962: 'meat loaf, meatloaf',\n",
              " 963: 'pizza, pizza pie',\n",
              " 964: 'potpie',\n",
              " 965: 'burrito',\n",
              " 966: 'red wine',\n",
              " 967: 'espresso',\n",
              " 968: 'cup',\n",
              " 969: 'eggnog',\n",
              " 970: 'alp',\n",
              " 971: 'bubble',\n",
              " 972: 'cliff, drop, drop-off',\n",
              " 973: 'coral reef',\n",
              " 974: 'geyser',\n",
              " 975: 'lakeside, lakeshore',\n",
              " 976: 'promontory, headland, head, foreland',\n",
              " 977: 'sandbar, sand bar',\n",
              " 978: 'seashore, coast, seacoast, sea-coast',\n",
              " 979: 'valley, vale',\n",
              " 980: 'volcano',\n",
              " 981: 'ballplayer, baseball player',\n",
              " 982: 'groom, bridegroom',\n",
              " 983: 'scuba diver',\n",
              " 984: 'rapeseed',\n",
              " 985: 'daisy',\n",
              " 986: \"yellow lady's slipper, yellow lady-slipper, Cypripedium calceolus, Cypripedium parviflorum\",\n",
              " 987: 'corn',\n",
              " 988: 'acorn',\n",
              " 989: 'hip, rose hip, rosehip',\n",
              " 990: 'buckeye, horse chestnut, conker',\n",
              " 991: 'coral fungus',\n",
              " 992: 'agaric',\n",
              " 993: 'gyromitra',\n",
              " 994: 'stinkhorn, carrion fungus',\n",
              " 995: 'earthstar',\n",
              " 996: 'hen-of-the-woods, hen of the woods, Polyporus frondosus, Grifola frondosa',\n",
              " 997: 'bolete',\n",
              " 998: 'ear, spike, capitulum',\n",
              " 999: 'toilet tissue, toilet paper, bathroom tissue'}"
            ]
          },
          "metadata": {},
          "execution_count": 24
        }
      ],
      "source": [
        "labels"
      ]
    },
    {
      "cell_type": "code",
      "source": [
        "#all the different possible guesses"
      ],
      "metadata": {
        "id": "v9rsHYof0_Jc"
      },
      "execution_count": null,
      "outputs": []
    },
    {
      "cell_type": "code",
      "execution_count": null,
      "metadata": {
        "colab": {
          "base_uri": "https://localhost:8080/",
          "height": 354
        },
        "id": "cetMFwBQngCQ",
        "outputId": "8ddc1e6a-3e6a-4510-bbfd-239eed7727f3"
      },
      "outputs": [
        {
          "output_type": "execute_result",
          "data": {
            "text/plain": [
              "(array([ 21., 129., 263., 297., 185.,  64.,  26.,  10.,   4.,   1.]),\n",
              " array([-7.9180727, -5.5669794, -3.2158856, -0.8647922,  1.4863012,\n",
              "         3.8373947,  6.188488 ,  8.539581 , 10.890676 , 13.241769 ,\n",
              "        15.592862 ], dtype=float32),\n",
              " <a list of 10 Patch objects>)"
            ]
          },
          "metadata": {},
          "execution_count": 25
        },
        {
          "output_type": "display_data",
          "data": {
            "text/plain": [
              "<Figure size 432x288 with 1 Axes>"
            ],
            "image/png": "[encoded data removed]"
          },
          "metadata": {
            "needs_background": "light"
          }
        }
      ],
      "source": [
        "plt.hist(X[0])"
      ]
    },
    {
      "cell_type": "code",
      "source": [
        "#plotting the data"
      ],
      "metadata": {
        "id": "tKrRmErC1C_J"
      },
      "execution_count": null,
      "outputs": []
    },
    {
      "cell_type": "code",
      "execution_count": null,
      "metadata": {
        "id": "zBt4rsdIefV_"
      },
      "outputs": [],
      "source": [
        "X = GPU_data(X)\n",
        "Y = GPU_data(Y)"
      ]
    },
    {
      "cell_type": "code",
      "execution_count": null,
      "metadata": {
        "id": "m4BlYG-CgC2z"
      },
      "outputs": [],
      "source": [
        "def softmax(x):\n",
        "    s1 = torch.exp(x - torch.max(x,1)[0][:,None])\n",
        "    s = s1 / s1.sum(1)[:,None]\n",
        "    return s"
      ]
    },
    {
      "cell_type": "code",
      "execution_count": null,
      "metadata": {
        "id": "XZ-UV8W_c_9o"
      },
      "outputs": [],
      "source": [
        "def cross_entropy(outputs, labels):            \n",
        "    return -torch.sum(softmax(outputs).log()[range(outputs.size()[0]), labels.long()])/outputs.size()[0]  "
      ]
    },
    {
      "cell_type": "code",
      "execution_count": null,
      "metadata": {
        "id": "wtL1kZcZICVP"
      },
      "outputs": [],
      "source": [
        "def randn_trunc(s): #Truncated Normal Random Numbers\n",
        "    mu = 0 \n",
        "    sigma = 0.1\n",
        "    R = stats.truncnorm((-2*sigma - mu) / sigma, (2*sigma - mu) / sigma, loc=mu, scale=sigma)\n",
        "    return R.rvs(s)"
      ]
    },
    {
      "cell_type": "code",
      "execution_count": null,
      "metadata": {
        "id": "wPQjN4JwYHAz"
      },
      "outputs": [],
      "source": [
        "def Truncated_Normal(size):\n",
        "\n",
        "    u1 = torch.rand(size)*(1-np.exp(-2)) + np.exp(-2)\n",
        "    u2 = torch.rand(size)\n",
        "    z  = torch.sqrt(-2*torch.log(u1)) * torch.cos(2*np.pi*u2)\n",
        "\n",
        "    return z"
      ]
    },
    {
      "cell_type": "code",
      "execution_count": null,
      "metadata": {
        "id": "LW3ttVcq1sI9"
      },
      "outputs": [],
      "source": [
        "def acc(out,y):\n",
        "    with torch.no_grad():\n",
        "        return (torch.sum(torch.max(out,1)[1] == y).item())/y.shape[0]"
      ]
    },
    {
      "cell_type": "code",
      "source": [
        "#defining variables"
      ],
      "metadata": {
        "id": "Pmv8QHFq1GGJ"
      },
      "execution_count": null,
      "outputs": []
    },
    {
      "cell_type": "code",
      "execution_count": null,
      "metadata": {
        "colab": {
          "base_uri": "https://localhost:8080/"
        },
        "id": "5UXgio04fyvz",
        "outputId": "ec156830-80f1-4c3b-9a75-e31bd4475ea3"
      },
      "outputs": [
        {
          "output_type": "execute_result",
          "data": {
            "text/plain": [
              "torch.Size([50, 1000])"
            ]
          },
          "metadata": {},
          "execution_count": 32
        }
      ],
      "source": [
        "X.shape"
      ]
    },
    {
      "cell_type": "code",
      "execution_count": null,
      "metadata": {
        "id": "x79Sie8XKPOC"
      },
      "outputs": [],
      "source": [
        "def get_batch(mode):\n",
        "    b = c.b\n",
        "    if mode == \"train\":\n",
        "        r = np.random.randint(X.shape[0]-b) \n",
        "        x = X[r:r+b,:]\n",
        "        y = Y[r:r+b]\n",
        "    elif mode == \"test\":\n",
        "        r = np.random.randint(X_test.shape[0]-b)\n",
        "        x = X_test[r:r+b,:]\n",
        "        y = Y_test[r:r+b]\n",
        "    return x,y"
      ]
    },
    {
      "cell_type": "code",
      "execution_count": null,
      "metadata": {
        "id": "vXOr9aM8A8P-"
      },
      "outputs": [],
      "source": [
        "def model(x,w):\n",
        "\n",
        "    return x@w[0]"
      ]
    },
    {
      "cell_type": "code",
      "execution_count": null,
      "metadata": {
        "id": "uzRsuDek9Fve"
      },
      "outputs": [],
      "source": [
        "def make_plots():\n",
        "    \n",
        "    acc_train = acc(model(x,w),y)\n",
        "    \n",
        "    # xt,yt = get_batch('test')\n",
        "\n",
        "    # acc_test = acc(model(xt,w),yt)\n",
        "\n",
        "    wb.log({\"acc_train\": acc_train})"
      ]
    },
    {
      "cell_type": "code",
      "source": [
        "#defining variables"
      ],
      "metadata": {
        "id": "0WMgqeG_1IzR"
      },
      "execution_count": null,
      "outputs": []
    },
    {
      "cell_type": "code",
      "execution_count": null,
      "metadata": {
        "colab": {
          "base_uri": "https://localhost:8080/",
          "height": 434,
          "referenced_widgets": [
            "e2517e9e45ed4d9abe1a662259c9552d",
            "0fa3a26c83084dce827bc544bd0c1f42",
            "6df268071c314f7ca21c0d9edee91816",
            "6e55c22dd13a4faaa93e73976497998e",
            "7ef2273a8484407bab8175d92c175331",
            "11797bedb1ff49efa1a4fd0f5050f59d",
            "bfe0b5758c09454a9d0dd79ab550ae89",
            "8f67536a0b7f4c6fb38ae8b96805f4b1"
          ]
        },
        "id": "WANJibeUNghZ",
        "outputId": "0de39155-48f5-41c6-df04-2b2c1dc9f965"
      },
      "outputs": [
        {
          "output_type": "display_data",
          "data": {
            "text/plain": [
              "<IPython.core.display.HTML object>"
            ],
            "text/html": [
              "Finishing last run (ID:1bjwlv2b) before initializing another..."
            ]
          },
          "metadata": {}
        },
        {
          "output_type": "display_data",
          "data": {
            "text/plain": [
              "<IPython.core.display.HTML object>"
            ],
            "text/html": [
              "Waiting for W&B process to finish... <strong style=\"color:green\">(success).</strong>"
            ]
          },
          "metadata": {}
        },
        {
          "output_type": "display_data",
          "data": {
            "text/plain": [
              "VBox(children=(Label(value='0.001 MB of 0.001 MB uploaded (0.000 MB deduped)\\r'), FloatProgress(value=1.0, max…"
            ],
            "application/vnd.jupyter.widget-view+json": {
              "version_major": 2,
              "version_minor": 0,
              "model_id": "e2517e9e45ed4d9abe1a662259c9552d"
            }
          },
          "metadata": {}
        },
        {
          "output_type": "display_data",
          "data": {
            "text/plain": [
              "<IPython.core.display.HTML object>"
            ],
            "text/html": [
              "<style>\n",
              "    table.wandb td:nth-child(1) { padding: 0 10px; text-align: left ; width: auto;} td:nth-child(2) {text-align: left ; width: 100%}\n",
              "    .wandb-row { display: flex; flex-direction: row; flex-wrap: wrap; justify-content: flex-start; width: 100% }\n",
              "    .wandb-col { display: flex; flex-direction: column; flex-basis: 100%; flex: 1; padding: 10px; }\n",
              "    </style>\n",
              "<div class=\"wandb-row\"><div class=\"wandb-col\"><h3>Run history:</h3><br/><table class=\"wandb\"><tr><td>acc_train</td><td>▅▅▂▆▅▁▄▅▆▂▇▂▆▂▅▁▇▅▇▅▇▅▁▂▄█▁█▃██▅▁▁▇▅▅▄▃▁</td></tr><tr><td>loss</td><td>▄▅▇▃▅█▅▄▃▇▂▇▃▇▄█▂▅▂▄▂▄█▇▅▁█▁▆▁▁▄██▂▅▄▅▆█</td></tr></table><br/></div><div class=\"wandb-col\"><h3>Run summary:</h3><br/><table class=\"wandb\"><tr><td>acc_train</td><td>0.3125</td></tr><tr><td>loss</td><td>1.00076</td></tr></table><br/></div></div>"
            ]
          },
          "metadata": {}
        },
        {
          "output_type": "display_data",
          "data": {
            "text/plain": [
              "<IPython.core.display.HTML object>"
            ],
            "text/html": [
              "Synced <strong style=\"color:#cdcd00\">pleasant-shadow-8</strong>: <a href=\"https://wandb.ai/kaylee/Linear_Model_Photo_1/runs/1bjwlv2b\" target=\"_blank\">https://wandb.ai/kaylee/Linear_Model_Photo_1/runs/1bjwlv2b</a><br/>Synced 5 W&B file(s), 0 media file(s), 0 artifact file(s) and 0 other file(s)"
            ]
          },
          "metadata": {}
        },
        {
          "output_type": "display_data",
          "data": {
            "text/plain": [
              "<IPython.core.display.HTML object>"
            ],
            "text/html": [
              "Find logs at: <code>./wandb/run-20221206_234622-1bjwlv2b/logs</code>"
            ]
          },
          "metadata": {}
        },
        {
          "output_type": "display_data",
          "data": {
            "text/plain": [
              "<IPython.core.display.HTML object>"
            ],
            "text/html": [
              "Successfully finished last run (ID:1bjwlv2b). Initializing new run:<br/>"
            ]
          },
          "metadata": {}
        },
        {
          "output_type": "display_data",
          "data": {
            "text/plain": [
              "<IPython.core.display.HTML object>"
            ],
            "text/html": [
              "Tracking run with wandb version 0.13.6"
            ]
          },
          "metadata": {}
        },
        {
          "output_type": "display_data",
          "data": {
            "text/plain": [
              "<IPython.core.display.HTML object>"
            ],
            "text/html": [
              "Run data is saved locally in <code>/content/wandb/run-20221206_235307-2yxig0ue</code>"
            ]
          },
          "metadata": {}
        },
        {
          "output_type": "display_data",
          "data": {
            "text/plain": [
              "<IPython.core.display.HTML object>"
            ],
            "text/html": [
              "Syncing run <strong><a href=\"https://wandb.ai/kaylee/Linear_Model_Photo_1/runs/2yxig0ue\" target=\"_blank\">solar-leaf-9</a></strong> to <a href=\"https://wandb.ai/kaylee/Linear_Model_Photo_1\" target=\"_blank\">Weights & Biases</a> (<a href=\"https://wandb.me/run\" target=\"_blank\">docs</a>)<br/>"
            ]
          },
          "metadata": {}
        },
        {
          "output_type": "stream",
          "name": "stderr",
          "text": [
            "<ipython-input-2-4608b466ff03>:2: UserWarning: To copy construct from a tensor, it is recommended to use sourceTensor.clone().detach() or sourceTensor.clone().detach().requires_grad_(True), rather than torch.tensor(sourceTensor).\n",
            "  return torch.tensor(data, requires_grad=True, dtype=torch.float, device=torch.device('cuda'))\n"
          ]
        }
      ],
      "source": [
        "wb.init(project=\"Linear_Model_Photo_1\");\n",
        "c = wb.config\n",
        "\n",
        "c.h = 0.001\n",
        "c.b = 32\n",
        "c.epochs = 100000\n",
        "\n",
        "w = [GPU(Truncated_Normal((1000,2)))]\n",
        "\n",
        "optimizer = torch.optim.Adam(w, lr=c.h)  \n",
        "\n",
        "for i in range(c.epochs):\n",
        "\n",
        "    x,y = get_batch('train')\n",
        "\n",
        "    loss = cross_entropy(softmax(model(x,w)),y)\n",
        "\n",
        "    optimizer.zero_grad()\n",
        "    loss.backward()\n",
        "    optimizer.step()\n",
        "   \n",
        "    wb.log({\"loss\": loss})\n",
        "\n",
        "    make_plots()\n"
      ]
    },
    {
      "cell_type": "markdown",
      "metadata": {
        "id": "sI--oRHS7Olk"
      },
      "source": [
        "https://tensorspace.org/"
      ]
    },
    {
      "cell_type": "markdown",
      "source": [
        "Best run: .9688  \n",
        "worst run: .312  \n",
        "average: .5834"
      ],
      "metadata": {
        "id": "Vt2xX-rT45So"
      }
    },
    {
      "cell_type": "code",
      "execution_count": null,
      "metadata": {
        "id": "cogMnVmoY6fs"
      },
      "outputs": [],
      "source": []
    },
    {
      "cell_type": "code",
      "execution_count": null,
      "metadata": {
        "id": "numPOTfxY6h8"
      },
      "outputs": [],
      "source": []
    },
    {
      "cell_type": "code",
      "execution_count": null,
      "metadata": {
        "id": "9H5XxYs2Y6jl"
      },
      "outputs": [],
      "source": []
    },
    {
      "cell_type": "code",
      "execution_count": null,
      "metadata": {
        "id": "dnuZwveTjkLb"
      },
      "outputs": [],
      "source": []
    },
    {
      "cell_type": "code",
      "execution_count": null,
      "metadata": {
        "id": "Iqz6xc5VjkNo"
      },
      "outputs": [],
      "source": []
    },
    {
      "cell_type": "code",
      "execution_count": null,
      "metadata": {
        "id": "gfnOAreBjkPo"
      },
      "outputs": [],
      "source": []
    },
    {
      "cell_type": "code",
      "execution_count": null,
      "metadata": {
        "id": "M052UNm_OwV5"
      },
      "outputs": [],
      "source": []
    },
    {
      "cell_type": "code",
      "execution_count": null,
      "metadata": {
        "id": "-iAwNrgSOwX3"
      },
      "outputs": [],
      "source": []
    },
    {
      "cell_type": "code",
      "execution_count": null,
      "metadata": {
        "id": "isgUmuudOwaP"
      },
      "outputs": [],
      "source": []
    },
    {
      "cell_type": "code",
      "execution_count": null,
      "metadata": {
        "id": "44_in1VIjkRr"
      },
      "outputs": [],
      "source": []
    }
  ]
}